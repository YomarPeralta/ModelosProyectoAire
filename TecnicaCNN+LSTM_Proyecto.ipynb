{
  "nbformat": 4,
  "nbformat_minor": 0,
  "metadata": {
    "colab": {
      "name": "TecnicaCNN+LSTM-Proyecto.ipynb",
      "provenance": [],
      "include_colab_link": true
    },
    "kernelspec": {
      "name": "python3",
      "display_name": "Python 3"
    },
    "language_info": {
      "name": "python"
    }
  },
  "cells": [
    {
      "cell_type": "markdown",
      "metadata": {
        "id": "view-in-github",
        "colab_type": "text"
      },
      "source": [
        "<a href=\"https://colab.research.google.com/github/YomarPeralta/ModelosProyectoAire/blob/main/TecnicaCNN%2BLSTM_Proyecto.ipynb\" target=\"_parent\"><img src=\"https://colab.research.google.com/assets/colab-badge.svg\" alt=\"Open In Colab\"/></a>"
      ]
    },
    {
      "cell_type": "code",
      "execution_count": null,
      "metadata": {
        "colab": {
          "base_uri": "https://localhost:8080/"
        },
        "id": "jMcE2L6FI2UG",
        "outputId": "316094f9-e625-4b93-84dc-1d1f1524ab92"
      },
      "outputs": [
        {
          "output_type": "stream",
          "name": "stdout",
          "text": [
            "    locationId parameter      value\n",
            "0        42641      pm25  11.270000\n",
            "1        42641       no2  64.400722\n",
            "2        42644      pm25   9.436000\n",
            "3        42643        co   0.669755\n",
            "4        42645       no2   8.221209\n",
            "5        42647      pm25   0.000000\n",
            "6        42643      pm25  29.289000\n",
            "7        42646       no2  41.346738\n",
            "8        42642        co   0.658695\n",
            "9        42644       no2  43.539311\n",
            "10       42648       so2   4.675383\n",
            "11       42643       no2   5.483313\n",
            "12       42647      pm10   0.000000\n",
            "13       42642       so2   5.279586\n",
            "14       42641       so2   5.098069\n",
            "[[4.26410000e+04 1.12700000e+01]\n",
            " [4.26410000e+04 6.44007225e+01]\n",
            " [4.26440000e+04 9.43600000e+00]\n",
            " ...\n",
            " [4.26480000e+04 5.61470737e+00]\n",
            " [4.26480000e+04 2.63464388e-01]\n",
            " [4.26440000e+04 2.17630000e+01]]\n",
            "[['no2' 64.40072245176]\n",
            " ['pm25' 9.436]\n",
            " ['co' 0.669755051]\n",
            " ['no2' 8.22120878764]\n",
            " ['pm25' 0.0]\n",
            " ['pm25' 29.289]\n",
            " ['no2' 41.34673806556]\n",
            " ['co' 0.658695317]\n",
            " ['no2' 43.53931113198]\n",
            " ['so2' 4.675383412364]\n",
            " ['no2' 5.48331308892]\n",
            " ['pm10' 0.0]\n",
            " ['so2' 5.279586162628]\n",
            " ['so2' 5.098068720276]]\n",
            "[[1 64.40072245176]\n",
            " [3 9.436]\n",
            " [0 0.669755051]\n",
            " [1 8.22120878764]\n",
            " [3 0.0]\n",
            " [3 29.289]\n",
            " [1 41.34673806556]\n",
            " [0 0.658695317]\n",
            " [1 43.53931113198]\n",
            " [4 4.675383412364]\n",
            " [1 5.48331308892]\n",
            " [2 0.0]\n",
            " [4 5.279586162628]\n",
            " [4 5.098068720276]]\n",
            "[[0.0 1.0 0.0 0.0 0.0 64.40072245176]\n",
            " [0.0 0.0 0.0 1.0 0.0 9.436]\n",
            " [1.0 0.0 0.0 0.0 0.0 0.669755051]\n",
            " [0.0 1.0 0.0 0.0 0.0 8.22120878764]\n",
            " [0.0 0.0 0.0 1.0 0.0 0.0]\n",
            " [0.0 0.0 0.0 1.0 0.0 29.289]\n",
            " [0.0 1.0 0.0 0.0 0.0 41.34673806556]\n",
            " [1.0 0.0 0.0 0.0 0.0 0.658695317]\n",
            " [0.0 1.0 0.0 0.0 0.0 43.53931113198]\n",
            " [0.0 0.0 0.0 0.0 1.0 4.675383412364]\n",
            " [0.0 1.0 0.0 0.0 0.0 5.48331308892]\n",
            " [0.0 0.0 1.0 0.0 0.0 0.0]\n",
            " [0.0 0.0 0.0 0.0 1.0 5.279586162628]\n",
            " [0.0 0.0 0.0 0.0 1.0 5.098068720276]]\n",
            "[[0.0 1.0 0.0 0.0 0.0]\n",
            " [0.0 0.0 0.0 1.0 0.0]\n",
            " [1.0 0.0 0.0 0.0 0.0]\n",
            " [0.0 1.0 0.0 0.0 0.0]\n",
            " [0.0 0.0 0.0 1.0 0.0]\n",
            " [0.0 0.0 0.0 1.0 0.0]\n",
            " [0.0 1.0 0.0 0.0 0.0]\n",
            " [1.0 0.0 0.0 0.0 0.0]\n",
            " [0.0 1.0 0.0 0.0 0.0]\n",
            " [0.0 0.0 0.0 0.0 1.0]\n",
            " [0.0 1.0 0.0 0.0 0.0]\n",
            " [0.0 0.0 1.0 0.0 0.0]\n",
            " [0.0 0.0 0.0 0.0 1.0]\n",
            " [0.0 0.0 0.0 0.0 1.0]]\n",
            "2\n"
          ]
        }
      ],
      "source": [
        "import pandas\n",
        "import tensorflow as tf\n",
        "import tensorflow_datasets as tfds\n",
        "import numpy as np\n",
        "from sklearn.preprocessing import LabelEncoder\n",
        "filename = \"Dataset_Aire_14197.csv\"\n",
        "data = pandas.read_csv(filename, header=0)\n",
        "#print(data.head(100))\n",
        "#trainy=data['locationId']\n",
        "#print(trainy.head(100))\n",
        "data_sc=data.drop(\"country\",axis=1)\n",
        "data_sc=data_sc.drop(\"utc\",axis=1)\n",
        "data_sc=data_sc.drop(\"location\",axis=1)\n",
        "data_sc=data_sc.drop(\"city\",axis=1)\n",
        "data_sc=data_sc.drop(\"unit\",axis=1)\n",
        "data_sc=data_sc.drop(\"latitude\",axis=1)\n",
        "data_sc=data_sc.drop(\"longitude\",axis=1)\n",
        "data_sc=data_sc.drop(\"local\",axis=1)\n",
        "print(data_sc.head(15))\n",
        "X = data_sc.iloc[:, [0,2]].values\n",
        "print(X)\n",
        "Y = data_sc.iloc[:,[1,2] ].values\n",
        "print(Y[1:15:])\n",
        "labelencoder_X2 = LabelEncoder()\n",
        "Y[:,0] = labelencoder_X2.fit_transform(Y[:,0])\n",
        "print(Y[1:15:])\n",
        "\n",
        "from sklearn.preprocessing import OneHotEncoder\n",
        "from sklearn.compose import ColumnTransformer\n",
        "\n",
        "transformer = ColumnTransformer(\n",
        "    transformers=[\n",
        "        (\"Churn_Modelling\",        # Un nombre de la transformación\n",
        "         OneHotEncoder(categories='auto'), # La clase a la que transformar\n",
        "         [0]            # Las columnas a transformar.\n",
        "         )\n",
        "    ], remainder='passthrough'\n",
        ")\n",
        "\n",
        "Y = transformer.fit_transform(Y)\n",
        "print(Y[1:15:])\n",
        "Y=Y[:,0:5]\n",
        "print(Y[1:15:])\n",
        "from sklearn.model_selection import train_test_split\n",
        "X_train, X_test, Y_train, Y_test = train_test_split(X,Y, test_size = 0.2, random_state = 0)\n",
        "\n",
        "from sklearn.preprocessing import StandardScaler\n",
        "sX = StandardScaler()\n",
        "X_train = sX.fit_transform(X_train)\n",
        "X_test = sX.transform(X_test)\n",
        "\n",
        "print(X_train.shape[1])"
      ]
    },
    {
      "cell_type": "code",
      "source": [
        "from tensorflow.keras.datasets import mnist\n",
        "from tensorflow.keras.models import Sequential\n",
        "from tensorflow.keras.layers import Conv1D\n",
        "from tensorflow.keras.layers import MaxPool2D\n",
        "from tensorflow.keras.layers import Flatten\n",
        "from tensorflow.keras.layers import Dropout\n",
        "from tensorflow.keras.layers import Dense\n",
        "from keras.layers import LSTM, Bidirectional, BatchNormalization\n",
        "from keras.layers import add\n",
        "from keras.layers import Activation\n",
        "\n",
        "model = Sequential()\n",
        "model.add(Conv1D(filters = 64, kernel_size = 2, activation = 'relu', input_shape = (X_train.shape[1], 1),kernel_initializer = \"uniform\"))\n",
        "model.add(LSTM(32, return_sequences=True))\n",
        "model.add(Activation('relu'))\n",
        "model.add(Dropout(0.5))\n",
        "model.add(LSTM(16))\n",
        "model.add(Activation('relu'))\n",
        "model.add(Dropout(0.5))\n",
        "model.add(Dense(5, activation = 'sigmoid'))\n",
        "\n",
        "model.compile(\n",
        "    optimizer=\"adam\",\n",
        "    loss='mse',\n",
        "    metrics=[\"accuracy\"]\n",
        ")\n"
      ],
      "metadata": {
        "id": "BPmUoxVaJRE2"
      },
      "execution_count": null,
      "outputs": []
    },
    {
      "cell_type": "code",
      "source": [
        "X_test = np.asarray(X_test).astype(np.float32)\n",
        "Y_test = np.asarray(Y_test).astype(np.float32)\n",
        "X_train = np.asarray(X_train).astype(np.float32)\n",
        "Y_train = np.asarray(Y_train).astype(np.float32)\n",
        "# running the fitting\n",
        "\n",
        "model.fit(X_train, Y_train, epochs = 50, batch_size = 20, validation_data = (X_test, Y_test), verbose = 2)"
      ],
      "metadata": {
        "colab": {
          "base_uri": "https://localhost:8080/"
        },
        "id": "EECc__jpLWcO",
        "outputId": "49c3a2ae-2e13-4c1c-d902-4aa2ee45bf0f"
      },
      "execution_count": null,
      "outputs": [
        {
          "output_type": "stream",
          "name": "stdout",
          "text": [
            "Epoch 1/50\n",
            "568/568 - 7s - loss: 0.1530 - accuracy: 0.4622 - val_loss: 0.0944 - val_accuracy: 0.7187 - 7s/epoch - 12ms/step\n",
            "Epoch 2/50\n",
            "568/568 - 2s - loss: 0.1047 - accuracy: 0.6276 - val_loss: 0.0828 - val_accuracy: 0.7465 - 2s/epoch - 4ms/step\n",
            "Epoch 3/50\n",
            "568/568 - 2s - loss: 0.0969 - accuracy: 0.6569 - val_loss: 0.0788 - val_accuracy: 0.7521 - 2s/epoch - 4ms/step\n",
            "Epoch 4/50\n",
            "568/568 - 2s - loss: 0.0924 - accuracy: 0.6830 - val_loss: 0.0760 - val_accuracy: 0.7518 - 2s/epoch - 4ms/step\n",
            "Epoch 5/50\n",
            "568/568 - 2s - loss: 0.0891 - accuracy: 0.6974 - val_loss: 0.0745 - val_accuracy: 0.7560 - 2s/epoch - 4ms/step\n",
            "Epoch 6/50\n",
            "568/568 - 2s - loss: 0.0858 - accuracy: 0.7100 - val_loss: 0.0723 - val_accuracy: 0.7570 - 2s/epoch - 4ms/step\n",
            "Epoch 7/50\n",
            "568/568 - 2s - loss: 0.0842 - accuracy: 0.7163 - val_loss: 0.0717 - val_accuracy: 0.7567 - 2s/epoch - 4ms/step\n",
            "Epoch 8/50\n",
            "568/568 - 2s - loss: 0.0822 - accuracy: 0.7248 - val_loss: 0.0708 - val_accuracy: 0.7602 - 2s/epoch - 4ms/step\n",
            "Epoch 9/50\n",
            "568/568 - 2s - loss: 0.0817 - accuracy: 0.7314 - val_loss: 0.0694 - val_accuracy: 0.7665 - 2s/epoch - 4ms/step\n",
            "Epoch 10/50\n",
            "568/568 - 2s - loss: 0.0801 - accuracy: 0.7341 - val_loss: 0.0688 - val_accuracy: 0.7796 - 2s/epoch - 4ms/step\n",
            "Epoch 11/50\n",
            "568/568 - 2s - loss: 0.0792 - accuracy: 0.7446 - val_loss: 0.0697 - val_accuracy: 0.7856 - 2s/epoch - 3ms/step\n",
            "Epoch 12/50\n",
            "568/568 - 2s - loss: 0.0786 - accuracy: 0.7495 - val_loss: 0.0679 - val_accuracy: 0.7870 - 2s/epoch - 4ms/step\n",
            "Epoch 13/50\n",
            "568/568 - 2s - loss: 0.0777 - accuracy: 0.7503 - val_loss: 0.0672 - val_accuracy: 0.7852 - 2s/epoch - 3ms/step\n",
            "Epoch 14/50\n",
            "568/568 - 2s - loss: 0.0765 - accuracy: 0.7554 - val_loss: 0.0683 - val_accuracy: 0.7803 - 2s/epoch - 4ms/step\n",
            "Epoch 15/50\n",
            "568/568 - 2s - loss: 0.0767 - accuracy: 0.7548 - val_loss: 0.0678 - val_accuracy: 0.7799 - 2s/epoch - 4ms/step\n",
            "Epoch 16/50\n",
            "568/568 - 4s - loss: 0.0757 - accuracy: 0.7613 - val_loss: 0.0672 - val_accuracy: 0.7845 - 4s/epoch - 6ms/step\n",
            "Epoch 17/50\n",
            "568/568 - 5s - loss: 0.0764 - accuracy: 0.7559 - val_loss: 0.0680 - val_accuracy: 0.7838 - 5s/epoch - 8ms/step\n",
            "Epoch 18/50\n",
            "568/568 - 3s - loss: 0.0761 - accuracy: 0.7539 - val_loss: 0.0658 - val_accuracy: 0.7905 - 3s/epoch - 5ms/step\n",
            "Epoch 19/50\n",
            "568/568 - 4s - loss: 0.0759 - accuracy: 0.7586 - val_loss: 0.0658 - val_accuracy: 0.7887 - 4s/epoch - 7ms/step\n",
            "Epoch 20/50\n",
            "568/568 - 4s - loss: 0.0750 - accuracy: 0.7594 - val_loss: 0.0657 - val_accuracy: 0.7887 - 4s/epoch - 7ms/step\n",
            "Epoch 21/50\n",
            "568/568 - 3s - loss: 0.0751 - accuracy: 0.7600 - val_loss: 0.0664 - val_accuracy: 0.7849 - 3s/epoch - 6ms/step\n",
            "Epoch 22/50\n",
            "568/568 - 3s - loss: 0.0746 - accuracy: 0.7623 - val_loss: 0.0654 - val_accuracy: 0.7880 - 3s/epoch - 6ms/step\n",
            "Epoch 23/50\n",
            "568/568 - 2s - loss: 0.0749 - accuracy: 0.7604 - val_loss: 0.0663 - val_accuracy: 0.7852 - 2s/epoch - 4ms/step\n",
            "Epoch 24/50\n",
            "568/568 - 2s - loss: 0.0748 - accuracy: 0.7596 - val_loss: 0.0653 - val_accuracy: 0.7859 - 2s/epoch - 4ms/step\n",
            "Epoch 25/50\n",
            "568/568 - 2s - loss: 0.0744 - accuracy: 0.7602 - val_loss: 0.0648 - val_accuracy: 0.7891 - 2s/epoch - 3ms/step\n",
            "Epoch 26/50\n",
            "568/568 - 2s - loss: 0.0742 - accuracy: 0.7636 - val_loss: 0.0648 - val_accuracy: 0.7877 - 2s/epoch - 4ms/step\n",
            "Epoch 27/50\n",
            "568/568 - 2s - loss: 0.0744 - accuracy: 0.7587 - val_loss: 0.0659 - val_accuracy: 0.7813 - 2s/epoch - 4ms/step\n",
            "Epoch 28/50\n",
            "568/568 - 2s - loss: 0.0744 - accuracy: 0.7601 - val_loss: 0.0645 - val_accuracy: 0.7894 - 2s/epoch - 4ms/step\n",
            "Epoch 29/50\n",
            "568/568 - 2s - loss: 0.0742 - accuracy: 0.7616 - val_loss: 0.0652 - val_accuracy: 0.7887 - 2s/epoch - 4ms/step\n",
            "Epoch 30/50\n",
            "568/568 - 2s - loss: 0.0737 - accuracy: 0.7629 - val_loss: 0.0640 - val_accuracy: 0.7894 - 2s/epoch - 4ms/step\n",
            "Epoch 31/50\n",
            "568/568 - 2s - loss: 0.0735 - accuracy: 0.7609 - val_loss: 0.0646 - val_accuracy: 0.7845 - 2s/epoch - 4ms/step\n",
            "Epoch 32/50\n",
            "568/568 - 2s - loss: 0.0728 - accuracy: 0.7638 - val_loss: 0.0654 - val_accuracy: 0.7820 - 2s/epoch - 3ms/step\n",
            "Epoch 33/50\n",
            "568/568 - 2s - loss: 0.0736 - accuracy: 0.7626 - val_loss: 0.0658 - val_accuracy: 0.7799 - 2s/epoch - 4ms/step\n",
            "Epoch 34/50\n",
            "568/568 - 2s - loss: 0.0734 - accuracy: 0.7623 - val_loss: 0.0642 - val_accuracy: 0.7856 - 2s/epoch - 4ms/step\n",
            "Epoch 35/50\n",
            "568/568 - 2s - loss: 0.0734 - accuracy: 0.7626 - val_loss: 0.0635 - val_accuracy: 0.7873 - 2s/epoch - 4ms/step\n",
            "Epoch 36/50\n",
            "568/568 - 2s - loss: 0.0728 - accuracy: 0.7639 - val_loss: 0.0644 - val_accuracy: 0.7849 - 2s/epoch - 4ms/step\n",
            "Epoch 37/50\n",
            "568/568 - 2s - loss: 0.0733 - accuracy: 0.7652 - val_loss: 0.0646 - val_accuracy: 0.7845 - 2s/epoch - 4ms/step\n",
            "Epoch 38/50\n",
            "568/568 - 2s - loss: 0.0731 - accuracy: 0.7635 - val_loss: 0.0644 - val_accuracy: 0.7852 - 2s/epoch - 4ms/step\n",
            "Epoch 39/50\n",
            "568/568 - 2s - loss: 0.0731 - accuracy: 0.7655 - val_loss: 0.0643 - val_accuracy: 0.7835 - 2s/epoch - 3ms/step\n",
            "Epoch 40/50\n",
            "568/568 - 2s - loss: 0.0724 - accuracy: 0.7675 - val_loss: 0.0626 - val_accuracy: 0.7891 - 2s/epoch - 4ms/step\n",
            "Epoch 41/50\n",
            "568/568 - 3s - loss: 0.0733 - accuracy: 0.7631 - val_loss: 0.0637 - val_accuracy: 0.7831 - 3s/epoch - 5ms/step\n",
            "Epoch 42/50\n",
            "568/568 - 2s - loss: 0.0726 - accuracy: 0.7641 - val_loss: 0.0629 - val_accuracy: 0.7884 - 2s/epoch - 3ms/step\n",
            "Epoch 43/50\n",
            "568/568 - 2s - loss: 0.0725 - accuracy: 0.7642 - val_loss: 0.0634 - val_accuracy: 0.7852 - 2s/epoch - 4ms/step\n",
            "Epoch 44/50\n",
            "568/568 - 2s - loss: 0.0727 - accuracy: 0.7656 - val_loss: 0.0646 - val_accuracy: 0.7820 - 2s/epoch - 4ms/step\n",
            "Epoch 45/50\n",
            "568/568 - 2s - loss: 0.0726 - accuracy: 0.7622 - val_loss: 0.0619 - val_accuracy: 0.7884 - 2s/epoch - 3ms/step\n",
            "Epoch 46/50\n",
            "568/568 - 2s - loss: 0.0725 - accuracy: 0.7643 - val_loss: 0.0624 - val_accuracy: 0.7877 - 2s/epoch - 4ms/step\n",
            "Epoch 47/50\n",
            "568/568 - 2s - loss: 0.0721 - accuracy: 0.7642 - val_loss: 0.0626 - val_accuracy: 0.7866 - 2s/epoch - 4ms/step\n",
            "Epoch 48/50\n",
            "568/568 - 2s - loss: 0.0723 - accuracy: 0.7658 - val_loss: 0.0642 - val_accuracy: 0.7831 - 2s/epoch - 4ms/step\n",
            "Epoch 49/50\n",
            "568/568 - 2s - loss: 0.0730 - accuracy: 0.7642 - val_loss: 0.0628 - val_accuracy: 0.7849 - 2s/epoch - 4ms/step\n",
            "Epoch 50/50\n",
            "568/568 - 2s - loss: 0.0721 - accuracy: 0.7629 - val_loss: 0.0622 - val_accuracy: 0.7880 - 2s/epoch - 4ms/step\n"
          ]
        },
        {
          "output_type": "execute_result",
          "data": {
            "text/plain": [
              "<keras.callbacks.History at 0x7f699dd1fd50>"
            ]
          },
          "metadata": {},
          "execution_count": 3
        }
      ]
    },
    {
      "cell_type": "code",
      "source": [
        "accuracy=model.evaluate(X_test,Y_test)\n",
        "print(accuracy)\n",
        "y_pred = model.predict(X_test)\n",
        "y_pred = np.asarray(y_pred).astype(np.float32)\n",
        "y_pred=np.round(y_pred)\n",
        "print(y_pred[0:15,])\n",
        "print(Y_test[0:15,])\n",
        "y_test = []\n",
        "Y_pred = []\n",
        "for x in Y_test:\n",
        "  if(x[0]==1 and x[1]==0 and x[2]==0 and x[3]==0 and x[4]==0):\n",
        "    y_test.append('pm25')\n",
        "  if(x[0]==0 and x[1]==1 and x[2]==0 and x[3]==0 and x[4]==0):\n",
        "    y_test.append('no2')\n",
        "  if(x[0]==0 and x[1]==0 and x[2]==1 and x[3]==0 and x[4]==0):\n",
        "    y_test.append('pm10')\n",
        "  if(x[0]==0 and x[1]==0 and x[2]==0 and x[3]==1 and x[4]==0):\n",
        "    y_test.append('co')\n",
        "  if(x[0]==0 and x[1]==0 and x[2]==0 and x[3]==0 and x[4]==1):\n",
        "    y_test.append('so2')\n",
        "for x in y_pred:\n",
        "  if(x[0]==1 and x[1]==0 and x[2]==0 and x[3]==0 and x[4]==0):\n",
        "    Y_pred.append('pm25')\n",
        "  if(x[0]==0 and x[1]==1 and x[2]==0 and x[3]==0 and x[4]==0):\n",
        "    Y_pred.append('no2')\n",
        "  if(x[0]==0 and x[1]==0 and x[2]==1 and x[3]==0 and x[4]==0):\n",
        "    Y_pred.append('pm10')\n",
        "  if(x[0]==0 and x[1]==0 and x[2]==0 and x[3]==1 and x[4]==0):\n",
        "    Y_pred.append('co')\n",
        "  if(x[0]==0 and x[1]==0 and x[2]==0 and x[3]==0 and x[4]==1):\n",
        "    Y_pred.append('so2')\n",
        "print(Y_pred[0:15])\n",
        "print(y_test[0:15])"
      ],
      "metadata": {
        "colab": {
          "base_uri": "https://localhost:8080/"
        },
        "id": "jbLq7XPAQ802",
        "outputId": "2c8d6548-17b1-4496-902c-bbda121946c2"
      },
      "execution_count": null,
      "outputs": [
        {
          "output_type": "stream",
          "name": "stdout",
          "text": [
            "89/89 [==============================] - 1s 3ms/step - loss: 0.0622 - accuracy: 0.7880\n",
            "[0.06219714879989624, 0.7880281805992126]\n",
            "[[0. 0. 0. 1. 0.]\n",
            " [1. 0. 0. 0. 0.]\n",
            " [0. 0. 0. 0. 1.]\n",
            " [1. 0. 0. 0. 0.]\n",
            " [1. 0. 0. 0. 0.]\n",
            " [0. 0. 0. 0. 0.]\n",
            " [0. 0. 0. 0. 1.]\n",
            " [0. 0. 0. 1. 0.]\n",
            " [0. 0. 0. 0. 1.]\n",
            " [0. 0. 0. 0. 1.]\n",
            " [0. 0. 0. 1. 0.]\n",
            " [0. 0. 0. 0. 1.]\n",
            " [0. 0. 0. 0. 1.]\n",
            " [1. 0. 0. 0. 0.]\n",
            " [0. 0. 0. 0. 1.]]\n",
            "[[0. 0. 0. 1. 0.]\n",
            " [1. 0. 0. 0. 0.]\n",
            " [0. 0. 0. 0. 1.]\n",
            " [1. 0. 0. 0. 0.]\n",
            " [1. 0. 0. 0. 0.]\n",
            " [0. 0. 0. 1. 0.]\n",
            " [0. 0. 0. 0. 1.]\n",
            " [0. 0. 0. 1. 0.]\n",
            " [0. 0. 0. 0. 1.]\n",
            " [0. 0. 0. 1. 0.]\n",
            " [0. 0. 0. 1. 0.]\n",
            " [0. 0. 0. 0. 1.]\n",
            " [0. 0. 0. 1. 0.]\n",
            " [1. 0. 0. 0. 0.]\n",
            " [0. 0. 0. 0. 1.]]\n",
            "['co', 'pm25', 'so2', 'pm25', 'pm25', 'so2', 'co', 'so2', 'so2', 'co', 'so2', 'so2', 'pm25', 'so2', 'pm25']\n",
            "['co', 'pm25', 'so2', 'pm25', 'pm25', 'co', 'so2', 'co', 'so2', 'co', 'co', 'so2', 'co', 'pm25', 'so2']\n"
          ]
        }
      ]
    },
    {
      "cell_type": "code",
      "source": [
        "import seaborn as sn\n",
        "import matplotlib.pyplot as plt\n",
        "from sklearn.metrics import confusion_matrix\n",
        "import pandas as pd\n",
        "# create a confusion matrix to visually represent incorrectly classified images\n",
        "def plot_confusion_matrix(y_true, y_pred, classes, out_path=\"\"):\n",
        "    cm = confusion_matrix(y_true, y_pred,normalize=\"true\")\n",
        "    df_cm = pd.DataFrame(cm, index=[i for i in classes], columns=[i for i in classes])\n",
        "    plt.figure(figsize=(6, 6))\n",
        "    ax = sn.heatmap(df_cm, annot=True, square=True, linewidths=.2,cmap=\"YlGnBu\" ,cbar_kws={\"shrink\": 0.8})\n",
        "    return ax"
      ],
      "metadata": {
        "id": "PE5QENFzVr1J"
      },
      "execution_count": null,
      "outputs": []
    },
    {
      "cell_type": "code",
      "source": [
        "y_pred=model.predict(X_test)\n",
        "labels=['pm25','no2','pm10','co','so2']\n",
        "plot_confusion_matrix(Y_test.argmax(axis=1),y_pred.argmax(axis=1),labels)"
      ],
      "metadata": {
        "id": "BoXdOOl1VuJ1",
        "outputId": "9015772f-75f1-4bb6-f02e-cc3ebea5d406",
        "colab": {
          "base_uri": "https://localhost:8080/",
          "height": 334
        }
      },
      "execution_count": 7,
      "outputs": [
        {
          "output_type": "execute_result",
          "data": {
            "text/plain": [
              "<matplotlib.axes._subplots.AxesSubplot at 0x7f69997b6790>"
            ]
          },
          "metadata": {},
          "execution_count": 7
        },
        {
          "output_type": "display_data",
          "data": {
            "text/plain": [
              "<Figure size 432x432 with 2 Axes>"
            ],
            "image/png": "[encoded data removed]"
          },
          "metadata": {
            "needs_background": "light"
          }
        }
      ]
    }
  ]
}