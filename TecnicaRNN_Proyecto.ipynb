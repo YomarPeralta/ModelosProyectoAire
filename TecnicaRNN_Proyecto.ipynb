{
  "cells": [
    {
      "cell_type": "markdown",
      "metadata": {
        "id": "view-in-github",
        "colab_type": "text"
      },
      "source": [
        "<a href=\"https://colab.research.google.com/github/YomarPeralta/ModelosProyectoAire/blob/main/TecnicaRNN_Proyecto.ipynb\" target=\"_parent\"><img src=\"https://colab.research.google.com/assets/colab-badge.svg\" alt=\"Open In Colab\"/></a>"
      ]
    },
    {
      "cell_type": "code",
      "execution_count": null,
      "metadata": {
        "colab": {
          "background_save": true
        },
        "id": "pd5dfstkDlN6"
      },
      "outputs": [],
      "source": [
        "import pandas\n",
        "import tensorflow as tf\n",
        "import tensorflow_datasets as tfds\n",
        "import numpy as np\n",
        "from sklearn.preprocessing import LabelEncoder"
      ]
    },
    {
      "cell_type": "code",
      "execution_count": null,
      "metadata": {
        "id": "TL55GZCaEShQ"
      },
      "outputs": [],
      "source": [
        "filename = \"Dataset_Aire_14197.csv\"\n",
        "data = pandas.read_csv(filename, header=0)\n",
        "#print(data.head(100))\n",
        "#trainy=data['locationId']\n",
        "#print(trainy.head(100))"
      ]
    },
    {
      "cell_type": "code",
      "execution_count": null,
      "metadata": {
        "colab": {
          "base_uri": "https://localhost:8080/"
        },
        "id": "cuI0fxOKEVz3",
        "outputId": "2df0454d-8b29-43f7-90f0-d6f9db00fd3a"
      },
      "outputs": [
        {
          "name": "stdout",
          "output_type": "stream",
          "text": [
            "    locationId parameter      value\n",
            "0        42641      pm25  11.270000\n",
            "1        42641       no2  64.400722\n",
            "2        42644      pm25   9.436000\n",
            "3        42643        co   0.669755\n",
            "4        42645       no2   8.221209\n",
            "5        42647      pm25   0.000000\n",
            "6        42643      pm25  29.289000\n",
            "7        42646       no2  41.346738\n",
            "8        42642        co   0.658695\n",
            "9        42644       no2  43.539311\n",
            "10       42648       so2   4.675383\n",
            "11       42643       no2   5.483313\n",
            "12       42647      pm10   0.000000\n",
            "13       42642       so2   5.279586\n",
            "14       42641       so2   5.098069\n",
            "[[4.26410000e+04 1.12700000e+01]\n",
            " [4.26410000e+04 6.44007225e+01]\n",
            " [4.26440000e+04 9.43600000e+00]\n",
            " ...\n",
            " [4.26480000e+04 5.61470737e+00]\n",
            " [4.26480000e+04 2.63464388e-01]\n",
            " [4.26440000e+04 2.17630000e+01]]\n",
            "[['no2' 64.40072245176]\n",
            " ['pm25' 9.436]\n",
            " ['co' 0.669755051]\n",
            " ['no2' 8.22120878764]\n",
            " ['pm25' 0.0]\n",
            " ['pm25' 29.289]\n",
            " ['no2' 41.34673806556]\n",
            " ['co' 0.658695317]\n",
            " ['no2' 43.53931113198]\n",
            " ['so2' 4.675383412364]\n",
            " ['no2' 5.48331308892]\n",
            " ['pm10' 0.0]\n",
            " ['so2' 5.279586162628]\n",
            " ['so2' 5.098068720276]]\n",
            "[[1 64.40072245176]\n",
            " [3 9.436]\n",
            " [0 0.669755051]\n",
            " [1 8.22120878764]\n",
            " [3 0.0]\n",
            " [3 29.289]\n",
            " [1 41.34673806556]\n",
            " [0 0.658695317]\n",
            " [1 43.53931113198]\n",
            " [4 4.675383412364]\n",
            " [1 5.48331308892]\n",
            " [2 0.0]\n",
            " [4 5.279586162628]\n",
            " [4 5.098068720276]]\n"
          ]
        }
      ],
      "source": [
        "data_sc=data.drop(\"country\",axis=1)\n",
        "data_sc=data_sc.drop(\"utc\",axis=1)\n",
        "data_sc=data_sc.drop(\"location\",axis=1)\n",
        "data_sc=data_sc.drop(\"city\",axis=1)\n",
        "data_sc=data_sc.drop(\"unit\",axis=1)\n",
        "data_sc=data_sc.drop(\"latitude\",axis=1)\n",
        "data_sc=data_sc.drop(\"longitude\",axis=1)\n",
        "data_sc=data_sc.drop(\"local\",axis=1)\n",
        "print(data_sc.head(15))\n",
        "X = data_sc.iloc[:, [0,2]].values\n",
        "print(X)\n",
        "Y = data_sc.iloc[:,[1,2] ].values\n",
        "print(Y[1:15:])\n",
        "labelencoder_X2 = LabelEncoder()\n",
        "Y[:,0] = labelencoder_X2.fit_transform(Y[:,0])\n",
        "print(Y[1:15:])"
      ]
    },
    {
      "cell_type": "code",
      "execution_count": null,
      "metadata": {
        "colab": {
          "base_uri": "https://localhost:8080/"
        },
        "id": "45b0mEnUSAIf",
        "outputId": "1a247fc7-64a2-4210-cb6c-c233206c6345"
      },
      "outputs": [
        {
          "name": "stdout",
          "output_type": "stream",
          "text": [
            "[[1.0 0.0 1.0 0.0 0.0 0.0]\n",
            " [1.0 0.0 0.0 0.0 1.0 0.0]\n",
            " [0.0 1.0 0.0 0.0 0.0 0.0]\n",
            " [1.0 0.0 1.0 0.0 0.0 0.0]\n",
            " [1.0 0.0 0.0 0.0 1.0 0.0]\n",
            " [1.0 0.0 0.0 0.0 1.0 0.0]\n",
            " [1.0 0.0 1.0 0.0 0.0 0.0]\n",
            " [0.0 1.0 0.0 0.0 0.0 0.0]\n",
            " [1.0 0.0 1.0 0.0 0.0 0.0]\n",
            " [1.0 0.0 0.0 0.0 0.0 1.0]\n",
            " [1.0 0.0 1.0 0.0 0.0 0.0]\n",
            " [1.0 0.0 0.0 1.0 0.0 0.0]\n",
            " [1.0 0.0 0.0 0.0 0.0 1.0]\n",
            " [1.0 0.0 0.0 0.0 0.0 1.0]]\n",
            "[[1.0 0.0 1.0 0.0 0.0]\n",
            " [1.0 0.0 0.0 0.0 1.0]\n",
            " [0.0 1.0 0.0 0.0 0.0]\n",
            " [1.0 0.0 1.0 0.0 0.0]\n",
            " [1.0 0.0 0.0 0.0 1.0]\n",
            " [1.0 0.0 0.0 0.0 1.0]\n",
            " [1.0 0.0 1.0 0.0 0.0]\n",
            " [0.0 1.0 0.0 0.0 0.0]\n",
            " [1.0 0.0 1.0 0.0 0.0]\n",
            " [1.0 0.0 0.0 0.0 0.0]\n",
            " [1.0 0.0 1.0 0.0 0.0]\n",
            " [1.0 0.0 0.0 1.0 0.0]\n",
            " [1.0 0.0 0.0 0.0 0.0]\n",
            " [1.0 0.0 0.0 0.0 0.0]]\n"
          ]
        }
      ],
      "source": [
        "from sklearn.preprocessing import OneHotEncoder\n",
        "from sklearn.compose import ColumnTransformer\n",
        "\n",
        "transformer = ColumnTransformer(\n",
        "    transformers=[\n",
        "        (\"Churn_Modelling\",        # Un nombre de la transformación\n",
        "         OneHotEncoder(categories='auto'), # La clase a la que transformar\n",
        "         [0]            # Las columnas a transformar.\n",
        "         )\n",
        "    ], remainder='passthrough'\n",
        ")\n",
        "\n",
        "Y = transformer.fit_transform(Y)\n",
        "print(Y[1:15:])\n",
        "Y=Y[:,0:5]\n",
        "print(Y[1:15:])\n"
      ]
    },
    {
      "cell_type": "code",
      "execution_count": null,
      "metadata": {
        "id": "9BAvuBamEd1H"
      },
      "outputs": [],
      "source": [
        "from sklearn.model_selection import train_test_split\n",
        "X_train, X_test, Y_train, Y_test = train_test_split(X,Y, test_size = 0.2, random_state = 0)\n",
        "\n",
        "from sklearn.preprocessing import StandardScaler\n",
        "sX = StandardScaler()\n",
        "X_train = sX.fit_transform(X_train)\n",
        "X_test = sX.transform(X_test)"
      ]
    },
    {
      "cell_type": "code",
      "execution_count": null,
      "metadata": {
        "colab": {
          "base_uri": "https://localhost:8080/"
        },
        "id": "AzS33ly7STxA",
        "outputId": "b1318376-0cd0-41f9-a01d-b29d63ea1a0e"
      },
      "outputs": [
        {
          "name": "stdout",
          "output_type": "stream",
          "text": [
            "Epoch 1/50\n",
            "1136/1136 [==============================] - 5s 3ms/step - loss: 0.3139 - accuracy: 0.8803\n",
            "Epoch 2/50\n",
            "1136/1136 [==============================] - 3s 3ms/step - loss: 0.1891 - accuracy: 0.9701\n",
            "Epoch 3/50\n",
            "1136/1136 [==============================] - 3s 3ms/step - loss: 0.1739 - accuracy: 0.9753\n",
            "Epoch 4/50\n",
            "1136/1136 [==============================] - 3s 3ms/step - loss: 0.1688 - accuracy: 0.9764\n",
            "Epoch 5/50\n",
            "1136/1136 [==============================] - 3s 3ms/step - loss: 0.1651 - accuracy: 0.9777\n",
            "Epoch 6/50\n",
            "1136/1136 [==============================] - 3s 3ms/step - loss: 0.1631 - accuracy: 0.9777\n",
            "Epoch 7/50\n",
            "1136/1136 [==============================] - 3s 3ms/step - loss: 0.1613 - accuracy: 0.9781\n",
            "Epoch 8/50\n",
            "1136/1136 [==============================] - 3s 3ms/step - loss: 0.1594 - accuracy: 0.9777\n",
            "Epoch 9/50\n",
            "1136/1136 [==============================] - 3s 3ms/step - loss: 0.1565 - accuracy: 0.9784\n",
            "Epoch 10/50\n",
            "1136/1136 [==============================] - 4s 3ms/step - loss: 0.1526 - accuracy: 0.9786\n",
            "Epoch 11/50\n",
            "1136/1136 [==============================] - 3s 3ms/step - loss: 0.1463 - accuracy: 0.9807\n",
            "Epoch 12/50\n",
            "1136/1136 [==============================] - 3s 3ms/step - loss: 0.1426 - accuracy: 0.9845\n",
            "Epoch 13/50\n",
            "1136/1136 [==============================] - 3s 3ms/step - loss: 0.1396 - accuracy: 0.9874\n",
            "Epoch 14/50\n",
            "1136/1136 [==============================] - 3s 3ms/step - loss: 0.1382 - accuracy: 0.9893\n",
            "Epoch 15/50\n",
            "1136/1136 [==============================] - 3s 3ms/step - loss: 0.1359 - accuracy: 0.9895\n",
            "Epoch 16/50\n",
            "1136/1136 [==============================] - 3s 3ms/step - loss: 0.1359 - accuracy: 0.9892\n",
            "Epoch 17/50\n",
            "1136/1136 [==============================] - 3s 3ms/step - loss: 0.1346 - accuracy: 0.9896\n",
            "Epoch 18/50\n",
            "1136/1136 [==============================] - 3s 3ms/step - loss: 0.1336 - accuracy: 0.9894\n",
            "Epoch 19/50\n",
            "1136/1136 [==============================] - 3s 3ms/step - loss: 0.1329 - accuracy: 0.9896\n",
            "Epoch 20/50\n",
            "1136/1136 [==============================] - 4s 3ms/step - loss: 0.1318 - accuracy: 0.9902\n",
            "Epoch 21/50\n",
            "1136/1136 [==============================] - 4s 3ms/step - loss: 0.1316 - accuracy: 0.9894\n",
            "Epoch 22/50\n",
            "1136/1136 [==============================] - 3s 3ms/step - loss: 0.1301 - accuracy: 0.9901\n",
            "Epoch 23/50\n",
            "1136/1136 [==============================] - 3s 3ms/step - loss: 0.1299 - accuracy: 0.9896\n",
            "Epoch 24/50\n",
            "1136/1136 [==============================] - 3s 3ms/step - loss: 0.1294 - accuracy: 0.9895\n",
            "Epoch 25/50\n",
            "1136/1136 [==============================] - 3s 3ms/step - loss: 0.1289 - accuracy: 0.9899\n",
            "Epoch 26/50\n",
            "1136/1136 [==============================] - 4s 3ms/step - loss: 0.1282 - accuracy: 0.9911\n",
            "Epoch 27/50\n",
            "1136/1136 [==============================] - 3s 3ms/step - loss: 0.1279 - accuracy: 0.9905\n",
            "Epoch 28/50\n",
            "1136/1136 [==============================] - 3s 3ms/step - loss: 0.1278 - accuracy: 0.9898\n",
            "Epoch 29/50\n",
            "1136/1136 [==============================] - 3s 3ms/step - loss: 0.1271 - accuracy: 0.9895\n",
            "Epoch 30/50\n",
            "1136/1136 [==============================] - 3s 3ms/step - loss: 0.1270 - accuracy: 0.9891\n",
            "Epoch 31/50\n",
            "1136/1136 [==============================] - 3s 3ms/step - loss: 0.1275 - accuracy: 0.9893\n",
            "Epoch 32/50\n",
            "1136/1136 [==============================] - 4s 3ms/step - loss: 0.1266 - accuracy: 0.9900\n",
            "Epoch 33/50\n",
            "1136/1136 [==============================] - 3s 3ms/step - loss: 0.1256 - accuracy: 0.9908\n",
            "Epoch 34/50\n",
            "1136/1136 [==============================] - 3s 3ms/step - loss: 0.1260 - accuracy: 0.9901\n",
            "Epoch 35/50\n",
            "1136/1136 [==============================] - 3s 3ms/step - loss: 0.1260 - accuracy: 0.9901\n",
            "Epoch 36/50\n",
            "1136/1136 [==============================] - 3s 3ms/step - loss: 0.1260 - accuracy: 0.9897\n",
            "Epoch 37/50\n",
            "1136/1136 [==============================] - 3s 3ms/step - loss: 0.1252 - accuracy: 0.9903\n",
            "Epoch 38/50\n",
            "1136/1136 [==============================] - 4s 3ms/step - loss: 0.1244 - accuracy: 0.9910\n",
            "Epoch 39/50\n",
            "1136/1136 [==============================] - 4s 3ms/step - loss: 0.1249 - accuracy: 0.9898\n",
            "Epoch 40/50\n",
            "1136/1136 [==============================] - 3s 3ms/step - loss: 0.1243 - accuracy: 0.9899\n",
            "Epoch 41/50\n",
            "1136/1136 [==============================] - 3s 3ms/step - loss: 0.1254 - accuracy: 0.9901\n",
            "Epoch 42/50\n",
            "1136/1136 [==============================] - 3s 3ms/step - loss: 0.1240 - accuracy: 0.9909\n",
            "Epoch 43/50\n",
            "1136/1136 [==============================] - 3s 3ms/step - loss: 0.1235 - accuracy: 0.9903\n",
            "Epoch 44/50\n",
            "1136/1136 [==============================] - 4s 3ms/step - loss: 0.1242 - accuracy: 0.9899\n",
            "Epoch 45/50\n",
            "1136/1136 [==============================] - 4s 3ms/step - loss: 0.1237 - accuracy: 0.9912\n",
            "Epoch 46/50\n",
            "1136/1136 [==============================] - 4s 3ms/step - loss: 0.1231 - accuracy: 0.9906\n",
            "Epoch 47/50\n",
            "1136/1136 [==============================] - 4s 3ms/step - loss: 0.1221 - accuracy: 0.9906\n",
            "Epoch 48/50\n",
            "1136/1136 [==============================] - 3s 3ms/step - loss: 0.1243 - accuracy: 0.9893\n",
            "Epoch 49/50\n",
            "1136/1136 [==============================] - 4s 3ms/step - loss: 0.1225 - accuracy: 0.9911\n",
            "Epoch 50/50\n",
            "1136/1136 [==============================] - 4s 4ms/step - loss: 0.1223 - accuracy: 0.9900\n"
          ]
        },
        {
          "data": {
            "text/plain": [
              "<keras.callbacks.History at 0x7fe5bcb6afd0>"
            ]
          },
          "execution_count": 12,
          "metadata": {},
          "output_type": "execute_result"
        }
      ],
      "source": [
        "#construimos nuestra red neuronal\n",
        "import keras\n",
        "from keras.models import Sequential\n",
        "from keras.layers import Dense, SimpleRNN\n",
        "from keras.layers import Dropout\n",
        "from keras.layers import add\n",
        "from keras.layers import Activation\n",
        "from keras.layers import GRU\n",
        "\n",
        "model = Sequential()\n",
        "model.add(SimpleRNN(units=32, input_shape=(X_train.shape[1], 1), activation=\"relu\"))\n",
        "model.add(Dense(8, activation=\"relu\")) \n",
        "model.add((Dense(5, activation='sigmoid')))\n",
        "#model.compile(loss='mean_squared_error', optimizer='rmsprop')\n",
        "\n",
        "\n",
        "model.compile(optimizer = \"adam\", loss = \"binary_crossentropy\", metrics = [\"accuracy\"])\n",
        "X_train = np.asarray(X_train).astype(np.float32)\n",
        "Y_train = np.asarray(Y_train).astype(np.float32)\n",
        "model.fit(X_train, Y_train, batch_size = 10, epochs = 50)"
      ]
    },
    {
      "cell_type": "code",
      "execution_count": null,
      "metadata": {
        "colab": {
          "base_uri": "https://localhost:8080/"
        },
        "id": "nB665xpsUHMf",
        "outputId": "373dccd7-178c-418e-f871-ba40407c52ea"
      },
      "outputs": [
        {
          "name": "stdout",
          "output_type": "stream",
          "text": [
            "89/89 [==============================] - 0s 2ms/step - loss: 0.1185 - accuracy: 0.9947\n",
            "[0.11851675808429718, 0.9947183132171631]\n",
            "[[1. 0. 0. 0. 0.]\n",
            " [0. 1. 0. 0. 0.]\n",
            " [1. 0. 0. 0. 0.]\n",
            " [0. 1. 0. 0. 0.]\n",
            " [0. 1. 0. 0. 0.]\n",
            " [1. 0. 0. 0. 1.]\n",
            " [1. 0. 0. 0. 0.]\n",
            " [1. 0. 0. 0. 0.]\n",
            " [1. 0. 0. 0. 0.]\n",
            " [1. 0. 0. 0. 0.]\n",
            " [1. 0. 0. 0. 1.]\n",
            " [1. 0. 0. 0. 0.]\n",
            " [1. 0. 0. 0. 0.]\n",
            " [0. 1. 0. 0. 0.]\n",
            " [1. 0. 0. 0. 0.]]\n",
            "[[1. 0. 0. 0. 1.]\n",
            " [0. 1. 0. 0. 0.]\n",
            " [1. 0. 0. 0. 0.]\n",
            " [0. 1. 0. 0. 0.]\n",
            " [0. 1. 0. 0. 0.]\n",
            " [1. 0. 0. 0. 1.]\n",
            " [1. 0. 0. 0. 0.]\n",
            " [1. 0. 0. 0. 1.]\n",
            " [1. 0. 0. 0. 0.]\n",
            " [1. 0. 0. 0. 1.]\n",
            " [1. 0. 0. 0. 1.]\n",
            " [1. 0. 0. 0. 0.]\n",
            " [1. 0. 0. 0. 1.]\n",
            " [0. 1. 0. 0. 0.]\n",
            " [1. 0. 0. 0. 0.]]\n",
            "['pm25', 'no2', 'pm25', 'no2', 'no2', 'pm25', 'pm25', 'pm25', 'pm25', 'pm25', 'pm25', 'no2', 'pm25', 'no2', 'pm25']\n",
            "['no2', 'pm25', 'no2', 'no2', 'pm25', 'pm25', 'pm25', 'no2', 'pm25', 'no2', 'pm25', 'pm25', 'no2', 'pm25', 'no2']\n"
          ]
        }
      ],
      "source": [
        "X_test = np.asarray(X_test).astype(np.float32)\n",
        "Y_test = np.asarray(Y_test).astype(np.float32)\n",
        "accuracy=model.evaluate(X_test,Y_test)\n",
        "print(accuracy)\n",
        "y_pred = model.predict(X_test)\n",
        "y_pred = np.asarray(y_pred).astype(np.float32)\n",
        "y_pred=np.round(y_pred)\n",
        "print(y_pred[0:15,])\n",
        "print(Y_test[0:15,])\n",
        "y_test = []\n",
        "Y_pred = []\n",
        "for x in Y_test:\n",
        "  if(x[0]==1 and x[1]==0 and x[2]==0 and x[3]==0 and x[4]==0):\n",
        "    y_test.append('pm25')\n",
        "  if(x[0]==0 and x[1]==1 and x[2]==0 and x[3]==0 and x[4]==0):\n",
        "    y_test.append('no2')\n",
        "  if(x[0]==0 and x[1]==0 and x[2]==1 and x[3]==0 and x[4]==0):\n",
        "    y_test.append('pm10')\n",
        "  if(x[0]==0 and x[1]==0 and x[2]==0 and x[3]==1 and x[4]==0):\n",
        "    y_test.append('co')\n",
        "  if(x[0]==0 and x[1]==0 and x[2]==0 and x[3]==0 and x[4]==1):\n",
        "    y_test.append('so2')\n",
        "for x in y_pred:\n",
        "  if(x[0]==1 and x[1]==0 and x[2]==0 and x[3]==0 and x[4]==0):\n",
        "    Y_pred.append('pm25')\n",
        "  if(x[0]==0 and x[1]==1 and x[2]==0 and x[3]==0 and x[4]==0):\n",
        "    Y_pred.append('no2')\n",
        "  if(x[0]==0 and x[1]==0 and x[2]==1 and x[3]==0 and x[4]==0):\n",
        "    Y_pred.append('pm10')\n",
        "  if(x[0]==0 and x[1]==0 and x[2]==0 and x[3]==1 and x[4]==0):\n",
        "    Y_pred.append('co')\n",
        "  if(x[0]==0 and x[1]==0 and x[2]==0 and x[3]==0 and x[4]==1):\n",
        "    Y_pred.append('so2')\n",
        "print(Y_pred[0:15])\n",
        "print(y_test[0:15])"
      ]
    },
    {
      "cell_type": "code",
      "execution_count": null,
      "metadata": {
        "id": "1qE_c8q5fe78"
      },
      "outputs": [],
      "source": [
        "import seaborn as sn\n",
        "import matplotlib.pyplot as plt\n",
        "from sklearn.metrics import confusion_matrix\n",
        "import pandas as pd\n",
        "# create a confusion matrix to visually represent incorrectly classified images\n",
        "def plot_confusion_matrix(y_true, y_pred, classes, out_path=\"\"):\n",
        "    cm = confusion_matrix(y_true, y_pred,normalize=\"true\")\n",
        "    df_cm = pd.DataFrame(cm, index=[i for i in classes], columns=[i for i in classes])\n",
        "    plt.figure(figsize=(6, 6))\n",
        "    ax = sn.heatmap(df_cm, annot=True, square=True, linewidths=.2,cmap=\"YlGnBu\" ,cbar_kws={\"shrink\": 0.8})\n",
        "    return ax"
      ]
    },
    {
      "cell_type": "code",
      "execution_count": null,
      "metadata": {
        "id": "qgYqtt7qfoF_"
      },
      "outputs": [],
      "source": [
        "y_pred=model.predict(X_test)\n",
        "labels=['pm25','no2','pm10','co','so2']\n",
        "plot_confusion_matrix(Y_test.argmax(axis=1),y_pred.argmax(axis=1),labels)"
      ]
    }
  ],
  "metadata": {
    "colab": {
      "collapsed_sections": [],
      "name": "TecnicaRNN-Proyecto.ipynb",
      "provenance": [],
      "include_colab_link": true
    },
    "kernelspec": {
      "display_name": "Python 3",
      "name": "python3"
    },
    "language_info": {
      "name": "python"
    }
  },
  "nbformat": 4,
  "nbformat_minor": 0
}