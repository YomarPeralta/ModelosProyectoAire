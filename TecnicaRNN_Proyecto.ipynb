{
  "cells": [
    {
      "cell_type": "markdown",
      "metadata": {
        "id": "view-in-github",
        "colab_type": "text"
      },
      "source": [
        "<a href=\"https://colab.research.google.com/github/YomarPeralta/ModelosProyectoAire/blob/main/TecnicaRNN_Proyecto.ipynb\" target=\"_parent\"><img src=\"https://colab.research.google.com/assets/colab-badge.svg\" alt=\"Open In Colab\"/></a>"
      ]
    },
    {
      "cell_type": "code",
      "execution_count": null,
      "metadata": {
        "colab": {
          "background_save": true
        },
        "id": "pd5dfstkDlN6"
      },
      "outputs": [],
      "source": [
        "import pandas\n",
        "import tensorflow as tf\n",
        "import tensorflow_datasets as tfds\n",
        "import numpy as np\n",
        "from sklearn.preprocessing import LabelEncoder"
      ]
    },
    {
      "cell_type": "code",
      "execution_count": 2,
      "metadata": {
        "id": "TL55GZCaEShQ"
      },
      "outputs": [],
      "source": [
        "filename = \"Dataset_Aire_14197.csv\"\n",
        "data = pandas.read_csv(filename, header=0)\n",
        "#print(data.head(100))\n",
        "#trainy=data['locationId']\n",
        "#print(trainy.head(100))"
      ]
    },
    {
      "cell_type": "code",
      "execution_count": 3,
      "metadata": {
        "colab": {
          "base_uri": "https://localhost:8080/"
        },
        "id": "cuI0fxOKEVz3",
        "outputId": "36a6ee21-90c1-4ab4-eb28-50131d4d4956"
      },
      "outputs": [
        {
          "output_type": "stream",
          "name": "stdout",
          "text": [
            "    locationId parameter      value\n",
            "0        42641      pm25  11.270000\n",
            "1        42641       no2  64.400722\n",
            "2        42644      pm25   9.436000\n",
            "3        42643        co   0.669755\n",
            "4        42645       no2   8.221209\n",
            "5        42647      pm25   0.000000\n",
            "6        42643      pm25  29.289000\n",
            "7        42646       no2  41.346738\n",
            "8        42642        co   0.658695\n",
            "9        42644       no2  43.539311\n",
            "10       42648       so2   4.675383\n",
            "11       42643       no2   5.483313\n",
            "12       42647      pm10   0.000000\n",
            "13       42642       so2   5.279586\n",
            "14       42641       so2   5.098069\n",
            "[[4.26410000e+04 1.12700000e+01]\n",
            " [4.26410000e+04 6.44007225e+01]\n",
            " [4.26440000e+04 9.43600000e+00]\n",
            " ...\n",
            " [4.26480000e+04 5.61470737e+00]\n",
            " [4.26480000e+04 2.63464388e-01]\n",
            " [4.26440000e+04 2.17630000e+01]]\n",
            "[['no2' 64.40072245176]\n",
            " ['pm25' 9.436]\n",
            " ['co' 0.669755051]\n",
            " ['no2' 8.22120878764]\n",
            " ['pm25' 0.0]\n",
            " ['pm25' 29.289]\n",
            " ['no2' 41.34673806556]\n",
            " ['co' 0.658695317]\n",
            " ['no2' 43.53931113198]\n",
            " ['so2' 4.675383412364]\n",
            " ['no2' 5.48331308892]\n",
            " ['pm10' 0.0]\n",
            " ['so2' 5.279586162628]\n",
            " ['so2' 5.098068720276]]\n",
            "[[1 64.40072245176]\n",
            " [3 9.436]\n",
            " [0 0.669755051]\n",
            " [1 8.22120878764]\n",
            " [3 0.0]\n",
            " [3 29.289]\n",
            " [1 41.34673806556]\n",
            " [0 0.658695317]\n",
            " [1 43.53931113198]\n",
            " [4 4.675383412364]\n",
            " [1 5.48331308892]\n",
            " [2 0.0]\n",
            " [4 5.279586162628]\n",
            " [4 5.098068720276]]\n"
          ]
        }
      ],
      "source": [
        "data_sc=data.drop(\"country\",axis=1)\n",
        "data_sc=data_sc.drop(\"utc\",axis=1)\n",
        "data_sc=data_sc.drop(\"location\",axis=1)\n",
        "data_sc=data_sc.drop(\"city\",axis=1)\n",
        "data_sc=data_sc.drop(\"unit\",axis=1)\n",
        "data_sc=data_sc.drop(\"latitude\",axis=1)\n",
        "data_sc=data_sc.drop(\"longitude\",axis=1)\n",
        "data_sc=data_sc.drop(\"local\",axis=1)\n",
        "print(data_sc.head(15))\n",
        "X = data_sc.iloc[:, [0,2]].values\n",
        "print(X)\n",
        "Y = data_sc.iloc[:,[1,2] ].values\n",
        "print(Y[1:15:])\n",
        "labelencoder_X2 = LabelEncoder()\n",
        "Y[:,0] = labelencoder_X2.fit_transform(Y[:,0])\n",
        "print(Y[1:15:])"
      ]
    },
    {
      "cell_type": "code",
      "execution_count": 4,
      "metadata": {
        "colab": {
          "base_uri": "https://localhost:8080/"
        },
        "id": "45b0mEnUSAIf",
        "outputId": "0532a3d2-6eb7-4b45-d0fd-94b3309b0f5c"
      },
      "outputs": [
        {
          "output_type": "stream",
          "name": "stdout",
          "text": [
            "[[0.0 1.0 0.0 0.0 0.0 64.40072245176]\n",
            " [0.0 0.0 0.0 1.0 0.0 9.436]\n",
            " [1.0 0.0 0.0 0.0 0.0 0.669755051]\n",
            " [0.0 1.0 0.0 0.0 0.0 8.22120878764]\n",
            " [0.0 0.0 0.0 1.0 0.0 0.0]\n",
            " [0.0 0.0 0.0 1.0 0.0 29.289]\n",
            " [0.0 1.0 0.0 0.0 0.0 41.34673806556]\n",
            " [1.0 0.0 0.0 0.0 0.0 0.658695317]\n",
            " [0.0 1.0 0.0 0.0 0.0 43.53931113198]\n",
            " [0.0 0.0 0.0 0.0 1.0 4.675383412364]\n",
            " [0.0 1.0 0.0 0.0 0.0 5.48331308892]\n",
            " [0.0 0.0 1.0 0.0 0.0 0.0]\n",
            " [0.0 0.0 0.0 0.0 1.0 5.279586162628]\n",
            " [0.0 0.0 0.0 0.0 1.0 5.098068720276]]\n",
            "[[0.0 1.0 0.0 0.0 0.0]\n",
            " [0.0 0.0 0.0 1.0 0.0]\n",
            " [1.0 0.0 0.0 0.0 0.0]\n",
            " [0.0 1.0 0.0 0.0 0.0]\n",
            " [0.0 0.0 0.0 1.0 0.0]\n",
            " [0.0 0.0 0.0 1.0 0.0]\n",
            " [0.0 1.0 0.0 0.0 0.0]\n",
            " [1.0 0.0 0.0 0.0 0.0]\n",
            " [0.0 1.0 0.0 0.0 0.0]\n",
            " [0.0 0.0 0.0 0.0 1.0]\n",
            " [0.0 1.0 0.0 0.0 0.0]\n",
            " [0.0 0.0 1.0 0.0 0.0]\n",
            " [0.0 0.0 0.0 0.0 1.0]\n",
            " [0.0 0.0 0.0 0.0 1.0]]\n"
          ]
        }
      ],
      "source": [
        "from sklearn.preprocessing import OneHotEncoder\n",
        "from sklearn.compose import ColumnTransformer\n",
        "\n",
        "transformer = ColumnTransformer(\n",
        "    transformers=[\n",
        "        (\"Churn_Modelling\",        # Un nombre de la transformación\n",
        "         OneHotEncoder(categories='auto'), # La clase a la que transformar\n",
        "         [0]            # Las columnas a transformar.\n",
        "         )\n",
        "    ], remainder='passthrough'\n",
        ")\n",
        "\n",
        "Y = transformer.fit_transform(Y)\n",
        "print(Y[1:15:])\n",
        "Y=Y[:,0:5]\n",
        "print(Y[1:15:])\n"
      ]
    },
    {
      "cell_type": "code",
      "execution_count": 5,
      "metadata": {
        "id": "9BAvuBamEd1H"
      },
      "outputs": [],
      "source": [
        "from sklearn.model_selection import train_test_split\n",
        "X_train, X_test, Y_train, Y_test = train_test_split(X,Y, test_size = 0.2, random_state = 0)\n",
        "\n",
        "from sklearn.preprocessing import StandardScaler\n",
        "sX = StandardScaler()\n",
        "X_train = sX.fit_transform(X_train)\n",
        "X_test = sX.transform(X_test)"
      ]
    },
    {
      "cell_type": "code",
      "execution_count": 6,
      "metadata": {
        "colab": {
          "base_uri": "https://localhost:8080/"
        },
        "id": "AzS33ly7STxA",
        "outputId": "e47a654b-bd03-42c8-8751-1a341409e82e"
      },
      "outputs": [
        {
          "output_type": "stream",
          "name": "stdout",
          "text": [
            "Epoch 1/50\n",
            "1136/1136 [==============================] - 3s 2ms/step - loss: 0.3778 - accuracy: 0.6181\n",
            "Epoch 2/50\n",
            "1136/1136 [==============================] - 2s 2ms/step - loss: 0.2603 - accuracy: 0.7647\n",
            "Epoch 3/50\n",
            "1136/1136 [==============================] - 2s 2ms/step - loss: 0.2215 - accuracy: 0.7935\n",
            "Epoch 4/50\n",
            "1136/1136 [==============================] - 2s 2ms/step - loss: 0.2095 - accuracy: 0.8043\n",
            "Epoch 5/50\n",
            "1136/1136 [==============================] - 2s 2ms/step - loss: 0.2024 - accuracy: 0.8045\n",
            "Epoch 6/50\n",
            "1136/1136 [==============================] - 2s 2ms/step - loss: 0.1968 - accuracy: 0.8092\n",
            "Epoch 7/50\n",
            "1136/1136 [==============================] - 2s 2ms/step - loss: 0.1916 - accuracy: 0.8120\n",
            "Epoch 8/50\n",
            "1136/1136 [==============================] - 2s 2ms/step - loss: 0.1887 - accuracy: 0.8153\n",
            "Epoch 9/50\n",
            "1136/1136 [==============================] - 2s 2ms/step - loss: 0.1857 - accuracy: 0.8149\n",
            "Epoch 10/50\n",
            "1136/1136 [==============================] - 2s 2ms/step - loss: 0.1837 - accuracy: 0.8154\n",
            "Epoch 11/50\n",
            "1136/1136 [==============================] - 2s 2ms/step - loss: 0.1822 - accuracy: 0.8213\n",
            "Epoch 12/50\n",
            "1136/1136 [==============================] - 2s 2ms/step - loss: 0.1807 - accuracy: 0.8193\n",
            "Epoch 13/50\n",
            "1136/1136 [==============================] - 2s 2ms/step - loss: 0.1793 - accuracy: 0.8191\n",
            "Epoch 14/50\n",
            "1136/1136 [==============================] - 2s 2ms/step - loss: 0.1780 - accuracy: 0.8214\n",
            "Epoch 15/50\n",
            "1136/1136 [==============================] - 2s 2ms/step - loss: 0.1769 - accuracy: 0.8236\n",
            "Epoch 16/50\n",
            "1136/1136 [==============================] - 2s 2ms/step - loss: 0.1759 - accuracy: 0.8226\n",
            "Epoch 17/50\n",
            "1136/1136 [==============================] - 2s 2ms/step - loss: 0.1754 - accuracy: 0.8213\n",
            "Epoch 18/50\n",
            "1136/1136 [==============================] - 2s 2ms/step - loss: 0.1744 - accuracy: 0.8247\n",
            "Epoch 19/50\n",
            "1136/1136 [==============================] - 2s 2ms/step - loss: 0.1732 - accuracy: 0.8256\n",
            "Epoch 20/50\n",
            "1136/1136 [==============================] - 2s 2ms/step - loss: 0.1728 - accuracy: 0.8237\n",
            "Epoch 21/50\n",
            "1136/1136 [==============================] - 2s 2ms/step - loss: 0.1714 - accuracy: 0.8270\n",
            "Epoch 22/50\n",
            "1136/1136 [==============================] - 2s 2ms/step - loss: 0.1705 - accuracy: 0.8259\n",
            "Epoch 23/50\n",
            "1136/1136 [==============================] - 3s 3ms/step - loss: 0.1688 - accuracy: 0.8263\n",
            "Epoch 24/50\n",
            "1136/1136 [==============================] - 2s 2ms/step - loss: 0.1687 - accuracy: 0.8270\n",
            "Epoch 25/50\n",
            "1136/1136 [==============================] - 2s 2ms/step - loss: 0.1669 - accuracy: 0.8282\n",
            "Epoch 26/50\n",
            "1136/1136 [==============================] - 2s 2ms/step - loss: 0.1667 - accuracy: 0.8265\n",
            "Epoch 27/50\n",
            "1136/1136 [==============================] - 2s 2ms/step - loss: 0.1662 - accuracy: 0.8268\n",
            "Epoch 28/50\n",
            "1136/1136 [==============================] - 2s 2ms/step - loss: 0.1651 - accuracy: 0.8252\n",
            "Epoch 29/50\n",
            "1136/1136 [==============================] - 2s 2ms/step - loss: 0.1647 - accuracy: 0.8265\n",
            "Epoch 30/50\n",
            "1136/1136 [==============================] - 2s 2ms/step - loss: 0.1638 - accuracy: 0.8281\n",
            "Epoch 31/50\n",
            "1136/1136 [==============================] - 2s 2ms/step - loss: 0.1635 - accuracy: 0.8315\n",
            "Epoch 32/50\n",
            "1136/1136 [==============================] - 2s 2ms/step - loss: 0.1631 - accuracy: 0.8326\n",
            "Epoch 33/50\n",
            "1136/1136 [==============================] - 2s 2ms/step - loss: 0.1627 - accuracy: 0.8320\n",
            "Epoch 34/50\n",
            "1136/1136 [==============================] - 2s 2ms/step - loss: 0.1621 - accuracy: 0.8329\n",
            "Epoch 35/50\n",
            "1136/1136 [==============================] - 2s 2ms/step - loss: 0.1620 - accuracy: 0.8349\n",
            "Epoch 36/50\n",
            "1136/1136 [==============================] - 2s 2ms/step - loss: 0.1621 - accuracy: 0.8309\n",
            "Epoch 37/50\n",
            "1136/1136 [==============================] - 2s 2ms/step - loss: 0.1607 - accuracy: 0.8353\n",
            "Epoch 38/50\n",
            "1136/1136 [==============================] - 2s 2ms/step - loss: 0.1607 - accuracy: 0.8326\n",
            "Epoch 39/50\n",
            "1136/1136 [==============================] - 2s 2ms/step - loss: 0.1608 - accuracy: 0.8316\n",
            "Epoch 40/50\n",
            "1136/1136 [==============================] - 2s 2ms/step - loss: 0.1611 - accuracy: 0.8362\n",
            "Epoch 41/50\n",
            "1136/1136 [==============================] - 2s 2ms/step - loss: 0.1596 - accuracy: 0.8347\n",
            "Epoch 42/50\n",
            "1136/1136 [==============================] - 2s 2ms/step - loss: 0.1600 - accuracy: 0.8326\n",
            "Epoch 43/50\n",
            "1136/1136 [==============================] - 2s 2ms/step - loss: 0.1601 - accuracy: 0.8337\n",
            "Epoch 44/50\n",
            "1136/1136 [==============================] - 2s 2ms/step - loss: 0.1597 - accuracy: 0.8348\n",
            "Epoch 45/50\n",
            "1136/1136 [==============================] - 2s 2ms/step - loss: 0.1596 - accuracy: 0.8324\n",
            "Epoch 46/50\n",
            "1136/1136 [==============================] - 2s 2ms/step - loss: 0.1591 - accuracy: 0.8352\n",
            "Epoch 47/50\n",
            "1136/1136 [==============================] - 2s 2ms/step - loss: 0.1593 - accuracy: 0.8355\n",
            "Epoch 48/50\n",
            "1136/1136 [==============================] - 2s 2ms/step - loss: 0.1590 - accuracy: 0.8352\n",
            "Epoch 49/50\n",
            "1136/1136 [==============================] - 2s 2ms/step - loss: 0.1582 - accuracy: 0.8365\n",
            "Epoch 50/50\n",
            "1136/1136 [==============================] - 2s 2ms/step - loss: 0.1585 - accuracy: 0.8339\n"
          ]
        },
        {
          "output_type": "execute_result",
          "data": {
            "text/plain": [
              "<keras.callbacks.History at 0x7f3b052eaf90>"
            ]
          },
          "metadata": {},
          "execution_count": 6
        }
      ],
      "source": [
        "#construimos nuestra red neuronal\n",
        "import keras\n",
        "from keras.models import Sequential\n",
        "from keras.layers import Dense, SimpleRNN\n",
        "from keras.layers import Dropout\n",
        "from keras.layers import add\n",
        "from keras.layers import Activation\n",
        "from keras.layers import GRU\n",
        "\n",
        "model = Sequential()\n",
        "model.add(SimpleRNN(units=32, input_shape=(X_train.shape[1], 1), activation=\"relu\"))\n",
        "model.add(Dense(8, activation=\"relu\")) \n",
        "model.add((Dense(5, activation='sigmoid')))\n",
        "#model.compile(loss='mean_squared_error', optimizer='rmsprop')\n",
        "\n",
        "\n",
        "model.compile(optimizer = \"adam\", loss = \"binary_crossentropy\", metrics = [\"accuracy\"])\n",
        "X_train = np.asarray(X_train).astype(np.float32)\n",
        "Y_train = np.asarray(Y_train).astype(np.float32)\n",
        "model.fit(X_train, Y_train, batch_size = 10, epochs = 50)"
      ]
    },
    {
      "cell_type": "code",
      "execution_count": 7,
      "metadata": {
        "colab": {
          "base_uri": "https://localhost:8080/"
        },
        "id": "nB665xpsUHMf",
        "outputId": "0d9470d0-171c-4040-c41a-7a27839c95f9"
      },
      "outputs": [
        {
          "output_type": "stream",
          "name": "stdout",
          "text": [
            "89/89 [==============================] - 0s 2ms/step - loss: 0.1514 - accuracy: 0.8415\n",
            "[0.15141914784908295, 0.841549277305603]\n",
            "[[0. 0. 1. 0. 0.]\n",
            " [1. 0. 0. 0. 0.]\n",
            " [0. 0. 0. 0. 1.]\n",
            " [1. 0. 0. 0. 0.]\n",
            " [1. 0. 0. 0. 0.]\n",
            " [0. 0. 0. 1. 0.]\n",
            " [0. 0. 0. 0. 1.]\n",
            " [0. 0. 0. 0. 0.]\n",
            " [0. 0. 0. 0. 1.]\n",
            " [0. 0. 0. 0. 1.]\n",
            " [0. 0. 0. 1. 0.]\n",
            " [0. 0. 0. 0. 1.]\n",
            " [0. 0. 0. 0. 1.]\n",
            " [1. 0. 0. 0. 0.]\n",
            " [0. 0. 0. 0. 1.]]\n",
            "[[0. 0. 0. 1. 0.]\n",
            " [1. 0. 0. 0. 0.]\n",
            " [0. 0. 0. 0. 1.]\n",
            " [1. 0. 0. 0. 0.]\n",
            " [1. 0. 0. 0. 0.]\n",
            " [0. 0. 0. 1. 0.]\n",
            " [0. 0. 0. 0. 1.]\n",
            " [0. 0. 0. 1. 0.]\n",
            " [0. 0. 0. 0. 1.]\n",
            " [0. 0. 0. 1. 0.]\n",
            " [0. 0. 0. 1. 0.]\n",
            " [0. 0. 0. 0. 1.]\n",
            " [0. 0. 0. 1. 0.]\n",
            " [1. 0. 0. 0. 0.]\n",
            " [0. 0. 0. 0. 1.]]\n",
            "['pm10', 'pm25', 'so2', 'pm25', 'pm25', 'co', 'so2', 'so2', 'so2', 'co', 'so2', 'so2', 'pm25', 'so2', 'pm25']\n",
            "['co', 'pm25', 'so2', 'pm25', 'pm25', 'co', 'so2', 'co', 'so2', 'co', 'co', 'so2', 'co', 'pm25', 'so2']\n"
          ]
        }
      ],
      "source": [
        "X_test = np.asarray(X_test).astype(np.float32)\n",
        "Y_test = np.asarray(Y_test).astype(np.float32)\n",
        "accuracy=model.evaluate(X_test,Y_test)\n",
        "print(accuracy)\n",
        "y_pred = model.predict(X_test)\n",
        "y_pred = np.asarray(y_pred).astype(np.float32)\n",
        "y_pred=np.round(y_pred)\n",
        "print(y_pred[0:15,])\n",
        "print(Y_test[0:15,])\n",
        "y_test = []\n",
        "Y_pred = []\n",
        "for x in Y_test:\n",
        "  if(x[0]==1 and x[1]==0 and x[2]==0 and x[3]==0 and x[4]==0):\n",
        "    y_test.append('pm25')\n",
        "  if(x[0]==0 and x[1]==1 and x[2]==0 and x[3]==0 and x[4]==0):\n",
        "    y_test.append('no2')\n",
        "  if(x[0]==0 and x[1]==0 and x[2]==1 and x[3]==0 and x[4]==0):\n",
        "    y_test.append('pm10')\n",
        "  if(x[0]==0 and x[1]==0 and x[2]==0 and x[3]==1 and x[4]==0):\n",
        "    y_test.append('co')\n",
        "  if(x[0]==0 and x[1]==0 and x[2]==0 and x[3]==0 and x[4]==1):\n",
        "    y_test.append('so2')\n",
        "for x in y_pred:\n",
        "  if(x[0]==1 and x[1]==0 and x[2]==0 and x[3]==0 and x[4]==0):\n",
        "    Y_pred.append('pm25')\n",
        "  if(x[0]==0 and x[1]==1 and x[2]==0 and x[3]==0 and x[4]==0):\n",
        "    Y_pred.append('no2')\n",
        "  if(x[0]==0 and x[1]==0 and x[2]==1 and x[3]==0 and x[4]==0):\n",
        "    Y_pred.append('pm10')\n",
        "  if(x[0]==0 and x[1]==0 and x[2]==0 and x[3]==1 and x[4]==0):\n",
        "    Y_pred.append('co')\n",
        "  if(x[0]==0 and x[1]==0 and x[2]==0 and x[3]==0 and x[4]==1):\n",
        "    Y_pred.append('so2')\n",
        "print(Y_pred[0:15])\n",
        "print(y_test[0:15])"
      ]
    },
    {
      "cell_type": "code",
      "execution_count": 8,
      "metadata": {
        "id": "1qE_c8q5fe78"
      },
      "outputs": [],
      "source": [
        "import seaborn as sn\n",
        "import matplotlib.pyplot as plt\n",
        "from sklearn.metrics import confusion_matrix\n",
        "import pandas as pd\n",
        "# create a confusion matrix to visually represent incorrectly classified images\n",
        "def plot_confusion_matrix(y_true, y_pred, classes, out_path=\"\"):\n",
        "    cm = confusion_matrix(y_true, y_pred,normalize=\"true\")\n",
        "    df_cm = pd.DataFrame(cm, index=[i for i in classes], columns=[i for i in classes])\n",
        "    plt.figure(figsize=(6, 6))\n",
        "    ax = sn.heatmap(df_cm, annot=True, square=True, linewidths=.2,cmap=\"YlGnBu\" ,cbar_kws={\"shrink\": 0.8})\n",
        "    return ax"
      ]
    },
    {
      "cell_type": "code",
      "execution_count": 9,
      "metadata": {
        "id": "qgYqtt7qfoF_",
        "colab": {
          "base_uri": "https://localhost:8080/",
          "height": 334
        },
        "outputId": "86bb1cd7-a421-4c25-c4b5-603cc287d53e"
      },
      "outputs": [
        {
          "output_type": "execute_result",
          "data": {
            "text/plain": [
              "<matplotlib.axes._subplots.AxesSubplot at 0x7f3b05110b90>"
            ]
          },
          "metadata": {},
          "execution_count": 9
        },
        {
          "output_type": "display_data",
          "data": {
            "text/plain": [
              "<Figure size 432x432 with 2 Axes>"
            ],
            "image/png": "[encoded data removed]"
          },
          "metadata": {
            "needs_background": "light"
          }
        }
      ],
      "source": [
        "y_pred=model.predict(X_test)\n",
        "labels=['pm25','no2','pm10','co','so2']\n",
        "plot_confusion_matrix(Y_test.argmax(axis=1),y_pred.argmax(axis=1),labels)"
      ]
    }
  ],
  "metadata": {
    "colab": {
      "collapsed_sections": [],
      "name": "TecnicaRNN-Proyecto.ipynb",
      "provenance": [],
      "include_colab_link": true
    },
    "kernelspec": {
      "display_name": "Python 3",
      "name": "python3"
    },
    "language_info": {
      "name": "python"
    }
  },
  "nbformat": 4,
  "nbformat_minor": 0
}