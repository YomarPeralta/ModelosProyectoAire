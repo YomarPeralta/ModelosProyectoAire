{
  "nbformat": 4,
  "nbformat_minor": 0,
  "metadata": {
    "colab": {
      "name": "TecnicaGRU_Proyecto.ipynb",
      "provenance": [],
      "include_colab_link": true
    },
    "kernelspec": {
      "name": "python3",
      "display_name": "Python 3"
    },
    "language_info": {
      "name": "python"
    }
  },
  "cells": [
    {
      "cell_type": "markdown",
      "metadata": {
        "id": "view-in-github",
        "colab_type": "text"
      },
      "source": [
        "<a href=\"https://colab.research.google.com/github/YomarPeralta/ModelosProyectoAire/blob/main/TecnicaGRU_Proyecto.ipynb\" target=\"_parent\"><img src=\"https://colab.research.google.com/assets/colab-badge.svg\" alt=\"Open In Colab\"/></a>"
      ]
    },
    {
      "cell_type": "code",
      "execution_count": null,
      "metadata": {
        "colab": {
          "base_uri": "https://localhost:8080/"
        },
        "id": "FxK1sjt_1JWd",
        "outputId": "f155e530-ddde-4c47-afce-084cce30f4cd"
      },
      "outputs": [
        {
          "output_type": "stream",
          "name": "stdout",
          "text": [
            "    locationId parameter      value\n",
            "0        42641      pm25  11.270000\n",
            "1        42641       no2  64.400722\n",
            "2        42644      pm25   9.436000\n",
            "3        42643        co   0.669755\n",
            "4        42645       no2   8.221209\n",
            "5        42647      pm25   0.000000\n",
            "6        42643      pm25  29.289000\n",
            "7        42646       no2  41.346738\n",
            "8        42642        co   0.658695\n",
            "9        42644       no2  43.539311\n",
            "10       42648       so2   4.675383\n",
            "11       42643       no2   5.483313\n",
            "12       42647      pm10   0.000000\n",
            "13       42642       so2   5.279586\n",
            "14       42641       so2   5.098069\n",
            "[[4.26410000e+04 1.12700000e+01]\n",
            " [4.26410000e+04 6.44007225e+01]\n",
            " [4.26440000e+04 9.43600000e+00]\n",
            " ...\n",
            " [4.26480000e+04 5.61470737e+00]\n",
            " [4.26480000e+04 2.63464388e-01]\n",
            " [4.26440000e+04 2.17630000e+01]]\n",
            "[['no2' 64.40072245176]\n",
            " ['pm25' 9.436]\n",
            " ['co' 0.669755051]\n",
            " ['no2' 8.22120878764]\n",
            " ['pm25' 0.0]\n",
            " ['pm25' 29.289]\n",
            " ['no2' 41.34673806556]\n",
            " ['co' 0.658695317]\n",
            " ['no2' 43.53931113198]\n",
            " ['so2' 4.675383412364]\n",
            " ['no2' 5.48331308892]\n",
            " ['pm10' 0.0]\n",
            " ['so2' 5.279586162628]\n",
            " ['so2' 5.098068720276]]\n",
            "[[1 64.40072245176]\n",
            " [3 9.436]\n",
            " [0 0.669755051]\n",
            " [1 8.22120878764]\n",
            " [3 0.0]\n",
            " [3 29.289]\n",
            " [1 41.34673806556]\n",
            " [0 0.658695317]\n",
            " [1 43.53931113198]\n",
            " [4 4.675383412364]\n",
            " [1 5.48331308892]\n",
            " [2 0.0]\n",
            " [4 5.279586162628]\n",
            " [4 5.098068720276]]\n"
          ]
        }
      ],
      "source": [
        "import pandas\n",
        "import tensorflow as tf\n",
        "import tensorflow_datasets as tfds\n",
        "import numpy as np\n",
        "from sklearn.preprocessing import LabelEncoder\n",
        "filename = \"Dataset_Aire_14197.csv\"\n",
        "data = pandas.read_csv(filename, header=0)\n",
        "#print(data.head(100))\n",
        "#trainy=data['locationId']\n",
        "#print(trainy.head(100))\n",
        "data_sc=data.drop(\"country\",axis=1)\n",
        "data_sc=data_sc.drop(\"utc\",axis=1)\n",
        "data_sc=data_sc.drop(\"location\",axis=1)\n",
        "data_sc=data_sc.drop(\"city\",axis=1)\n",
        "data_sc=data_sc.drop(\"unit\",axis=1)\n",
        "data_sc=data_sc.drop(\"latitude\",axis=1)\n",
        "data_sc=data_sc.drop(\"longitude\",axis=1)\n",
        "data_sc=data_sc.drop(\"local\",axis=1)\n",
        "print(data_sc.head(15))\n",
        "X = data_sc.iloc[:, [0,2]].values\n",
        "print(X)\n",
        "Y = data_sc.iloc[:,[1,2] ].values\n",
        "print(Y[1:15:])\n",
        "labelencoder_X2 = LabelEncoder()\n",
        "Y[:,0] = labelencoder_X2.fit_transform(Y[:,0])\n",
        "print(Y[1:15:])\n",
        "\n"
      ]
    },
    {
      "cell_type": "code",
      "source": [
        "from sklearn.preprocessing import OneHotEncoder\n",
        "from sklearn.compose import ColumnTransformer\n",
        "\n",
        "transformer = ColumnTransformer(\n",
        "    transformers=[\n",
        "        (\"Churn_Modelling\",        # Un nombre de la transformación\n",
        "         OneHotEncoder(categories='auto'), # La clase a la que transformar\n",
        "         [0]            # Las columnas a transformar.\n",
        "         )\n",
        "    ], remainder='passthrough'\n",
        ")\n",
        "\n",
        "Y = transformer.fit_transform(Y)\n",
        "print(Y[1:15:])\n",
        "Y=Y[:,0:5]\n",
        "print(Y[1:15:])\n",
        "from sklearn.model_selection import train_test_split\n",
        "X_train, X_test, Y_train, Y_test = train_test_split(X,Y, test_size = 0.2, random_state = 0)\n",
        "\n",
        "from sklearn.preprocessing import StandardScaler\n",
        "sX = StandardScaler()\n",
        "X_train = sX.fit_transform(X_train)\n",
        "X_test = sX.transform(X_test)\n",
        "\n",
        "print(X_train.shape[1])"
      ],
      "metadata": {
        "colab": {
          "base_uri": "https://localhost:8080/"
        },
        "id": "zmjJwAA0qj-r",
        "outputId": "567775c0-d4d5-4bb8-a39a-292a5a4b68bf"
      },
      "execution_count": null,
      "outputs": [
        {
          "output_type": "stream",
          "name": "stdout",
          "text": [
            "[[0.0 1.0 0.0 0.0 0.0 64.40072245176]\n",
            " [0.0 0.0 0.0 1.0 0.0 9.436]\n",
            " [1.0 0.0 0.0 0.0 0.0 0.669755051]\n",
            " [0.0 1.0 0.0 0.0 0.0 8.22120878764]\n",
            " [0.0 0.0 0.0 1.0 0.0 0.0]\n",
            " [0.0 0.0 0.0 1.0 0.0 29.289]\n",
            " [0.0 1.0 0.0 0.0 0.0 41.34673806556]\n",
            " [1.0 0.0 0.0 0.0 0.0 0.658695317]\n",
            " [0.0 1.0 0.0 0.0 0.0 43.53931113198]\n",
            " [0.0 0.0 0.0 0.0 1.0 4.675383412364]\n",
            " [0.0 1.0 0.0 0.0 0.0 5.48331308892]\n",
            " [0.0 0.0 1.0 0.0 0.0 0.0]\n",
            " [0.0 0.0 0.0 0.0 1.0 5.279586162628]\n",
            " [0.0 0.0 0.0 0.0 1.0 5.098068720276]]\n",
            "[[0.0 1.0 0.0 0.0 0.0]\n",
            " [0.0 0.0 0.0 1.0 0.0]\n",
            " [1.0 0.0 0.0 0.0 0.0]\n",
            " [0.0 1.0 0.0 0.0 0.0]\n",
            " [0.0 0.0 0.0 1.0 0.0]\n",
            " [0.0 0.0 0.0 1.0 0.0]\n",
            " [0.0 1.0 0.0 0.0 0.0]\n",
            " [1.0 0.0 0.0 0.0 0.0]\n",
            " [0.0 1.0 0.0 0.0 0.0]\n",
            " [0.0 0.0 0.0 0.0 1.0]\n",
            " [0.0 1.0 0.0 0.0 0.0]\n",
            " [0.0 0.0 1.0 0.0 0.0]\n",
            " [0.0 0.0 0.0 0.0 1.0]\n",
            " [0.0 0.0 0.0 0.0 1.0]]\n",
            "2\n"
          ]
        }
      ]
    },
    {
      "cell_type": "code",
      "source": [
        "import tensorflow as tf\n",
        "from tensorflow import keras\n",
        "from tensorflow.keras import layers\n",
        "from keras.layers import Activation\n",
        "\n",
        "model = Sequential()\n",
        "model.add(layers.GRU(64, input_shape = (X_train.shape[1], 1)))\n",
        "model.add(layers.BatchNormalization())\n",
        "model.add((layers.Dense(5, activation='sigmoid')))\n",
        "print(model.summary())\n",
        "\n",
        "model.compile(\n",
        "    loss=\"binary_crossentropy\",\n",
        "    optimizer=\"sgd\",\n",
        "    metrics=[\"Precision\"],\n",
        ")\t"
      ],
      "metadata": {
        "colab": {
          "base_uri": "https://localhost:8080/",
          "height": 244
        },
        "id": "gSb1K5a11buz",
        "outputId": "ad219740-9299-44d8-b2f7-c70020b9ea2e"
      },
      "execution_count": null,
      "outputs": [
        {
          "output_type": "error",
          "ename": "NameError",
          "evalue": "ignored",
          "traceback": [
            "\u001b[0;31m---------------------------------------------------------------------------\u001b[0m",
            "\u001b[0;31mNameError\u001b[0m                                 Traceback (most recent call last)",
            "\u001b[0;32m<ipython-input-7-c1a0bad248d2>\u001b[0m in \u001b[0;36m<module>\u001b[0;34m\u001b[0m\n\u001b[1;32m      4\u001b[0m \u001b[0;32mfrom\u001b[0m \u001b[0mkeras\u001b[0m\u001b[0;34m.\u001b[0m\u001b[0mlayers\u001b[0m \u001b[0;32mimport\u001b[0m \u001b[0mActivation\u001b[0m\u001b[0;34m\u001b[0m\u001b[0;34m\u001b[0m\u001b[0m\n\u001b[1;32m      5\u001b[0m \u001b[0;34m\u001b[0m\u001b[0m\n\u001b[0;32m----> 6\u001b[0;31m \u001b[0mmodel\u001b[0m \u001b[0;34m=\u001b[0m \u001b[0mSequential\u001b[0m\u001b[0;34m(\u001b[0m\u001b[0;34m)\u001b[0m\u001b[0;34m\u001b[0m\u001b[0;34m\u001b[0m\u001b[0m\n\u001b[0m\u001b[1;32m      7\u001b[0m \u001b[0mmodel\u001b[0m\u001b[0;34m.\u001b[0m\u001b[0madd\u001b[0m\u001b[0;34m(\u001b[0m\u001b[0mlayers\u001b[0m\u001b[0;34m.\u001b[0m\u001b[0mGRU\u001b[0m\u001b[0;34m(\u001b[0m\u001b[0;36m64\u001b[0m\u001b[0;34m,\u001b[0m \u001b[0minput_shape\u001b[0m \u001b[0;34m=\u001b[0m \u001b[0;34m(\u001b[0m\u001b[0mX_train\u001b[0m\u001b[0;34m.\u001b[0m\u001b[0mshape\u001b[0m\u001b[0;34m[\u001b[0m\u001b[0;36m1\u001b[0m\u001b[0;34m]\u001b[0m\u001b[0;34m,\u001b[0m \u001b[0;36m1\u001b[0m\u001b[0;34m)\u001b[0m\u001b[0;34m)\u001b[0m\u001b[0;34m)\u001b[0m\u001b[0;34m\u001b[0m\u001b[0;34m\u001b[0m\u001b[0m\n\u001b[1;32m      8\u001b[0m \u001b[0mmodel\u001b[0m\u001b[0;34m.\u001b[0m\u001b[0madd\u001b[0m\u001b[0;34m(\u001b[0m\u001b[0mlayers\u001b[0m\u001b[0;34m.\u001b[0m\u001b[0mBatchNormalization\u001b[0m\u001b[0;34m(\u001b[0m\u001b[0;34m)\u001b[0m\u001b[0;34m)\u001b[0m\u001b[0;34m\u001b[0m\u001b[0;34m\u001b[0m\u001b[0m\n",
            "\u001b[0;31mNameError\u001b[0m: name 'Sequential' is not defined"
          ]
        }
      ]
    },
    {
      "cell_type": "code",
      "source": [
        "X_test = np.asarray(X_test).astype(np.float32)\n",
        "Y_test = np.asarray(Y_test).astype(np.float32)\n",
        "X_train = np.asarray(X_train).astype(np.float32)\n",
        "Y_train = np.asarray(Y_train).astype(np.float32)\n",
        "# running the fitting\n",
        "\n",
        "model.fit(X_train, Y_train, epochs = 50, batch_size = 20, validation_data = (X_test, Y_test), verbose = 2)"
      ],
      "metadata": {
        "colab": {
          "base_uri": "https://localhost:8080/"
        },
        "id": "FHW4S-1M14Zp",
        "outputId": "87cf0a21-d815-4083-c307-6e26dee1e364"
      },
      "execution_count": null,
      "outputs": [
        {
          "output_type": "stream",
          "name": "stdout",
          "text": [
            "Epoch 1/50\n",
            "568/568 - 6s - loss: 0.5232 - precision: 0.4432 - val_loss: 0.4319 - val_precision: 0.7064 - 6s/epoch - 11ms/step\n",
            "Epoch 2/50\n",
            "568/568 - 2s - loss: 0.3870 - precision: 0.6622 - val_loss: 0.3535 - val_precision: 0.7535 - 2s/epoch - 4ms/step\n",
            "Epoch 3/50\n",
            "568/568 - 2s - loss: 0.3424 - precision: 0.7354 - val_loss: 0.3216 - val_precision: 0.7598 - 2s/epoch - 4ms/step\n",
            "Epoch 4/50\n",
            "568/568 - 2s - loss: 0.3224 - precision: 0.7530 - val_loss: 0.3055 - val_precision: 0.7855 - 2s/epoch - 4ms/step\n",
            "Epoch 5/50\n",
            "568/568 - 2s - loss: 0.3108 - precision: 0.7516 - val_loss: 0.2961 - val_precision: 0.7802 - 2s/epoch - 4ms/step\n",
            "Epoch 6/50\n",
            "568/568 - 2s - loss: 0.3036 - precision: 0.7542 - val_loss: 0.2898 - val_precision: 0.7820 - 2s/epoch - 4ms/step\n",
            "Epoch 7/50\n",
            "568/568 - 2s - loss: 0.2965 - precision: 0.7504 - val_loss: 0.2832 - val_precision: 0.7653 - 2s/epoch - 4ms/step\n",
            "Epoch 8/50\n",
            "568/568 - 2s - loss: 0.2926 - precision: 0.7444 - val_loss: 0.2780 - val_precision: 0.7714 - 2s/epoch - 4ms/step\n",
            "Epoch 9/50\n",
            "568/568 - 2s - loss: 0.2888 - precision: 0.7510 - val_loss: 0.2745 - val_precision: 0.7397 - 2s/epoch - 4ms/step\n",
            "Epoch 10/50\n",
            "568/568 - 2s - loss: 0.2836 - precision: 0.7435 - val_loss: 0.2703 - val_precision: 0.7661 - 2s/epoch - 4ms/step\n",
            "Epoch 11/50\n",
            "568/568 - 2s - loss: 0.2815 - precision: 0.7457 - val_loss: 0.2664 - val_precision: 0.7614 - 2s/epoch - 4ms/step\n",
            "Epoch 12/50\n",
            "568/568 - 2s - loss: 0.2766 - precision: 0.7484 - val_loss: 0.2619 - val_precision: 0.7407 - 2s/epoch - 4ms/step\n",
            "Epoch 13/50\n",
            "568/568 - 2s - loss: 0.2741 - precision: 0.7448 - val_loss: 0.2589 - val_precision: 0.7320 - 2s/epoch - 4ms/step\n",
            "Epoch 14/50\n",
            "568/568 - 2s - loss: 0.2698 - precision: 0.7486 - val_loss: 0.2552 - val_precision: 0.7467 - 2s/epoch - 4ms/step\n",
            "Epoch 15/50\n",
            "568/568 - 2s - loss: 0.2674 - precision: 0.7468 - val_loss: 0.2512 - val_precision: 0.7556 - 2s/epoch - 4ms/step\n",
            "Epoch 16/50\n",
            "568/568 - 2s - loss: 0.2644 - precision: 0.7424 - val_loss: 0.2487 - val_precision: 0.7491 - 2s/epoch - 4ms/step\n",
            "Epoch 17/50\n",
            "568/568 - 2s - loss: 0.2620 - precision: 0.7458 - val_loss: 0.2470 - val_precision: 0.7363 - 2s/epoch - 4ms/step\n",
            "Epoch 18/50\n",
            "568/568 - 2s - loss: 0.2574 - precision: 0.7514 - val_loss: 0.2430 - val_precision: 0.7483 - 2s/epoch - 4ms/step\n",
            "Epoch 19/50\n",
            "568/568 - 2s - loss: 0.2577 - precision: 0.7420 - val_loss: 0.2408 - val_precision: 0.7401 - 2s/epoch - 4ms/step\n",
            "Epoch 20/50\n",
            "568/568 - 2s - loss: 0.2529 - precision: 0.7488 - val_loss: 0.2391 - val_precision: 0.7436 - 2s/epoch - 4ms/step\n",
            "Epoch 21/50\n",
            "568/568 - 2s - loss: 0.2514 - precision: 0.7462 - val_loss: 0.2357 - val_precision: 0.7474 - 2s/epoch - 4ms/step\n",
            "Epoch 22/50\n",
            "568/568 - 2s - loss: 0.2522 - precision: 0.7446 - val_loss: 0.2332 - val_precision: 0.7495 - 2s/epoch - 4ms/step\n",
            "Epoch 23/50\n",
            "568/568 - 2s - loss: 0.2487 - precision: 0.7479 - val_loss: 0.2328 - val_precision: 0.7446 - 2s/epoch - 4ms/step\n",
            "Epoch 24/50\n",
            "568/568 - 2s - loss: 0.2458 - precision: 0.7516 - val_loss: 0.2311 - val_precision: 0.7536 - 2s/epoch - 4ms/step\n",
            "Epoch 25/50\n",
            "568/568 - 2s - loss: 0.2448 - precision: 0.7510 - val_loss: 0.2291 - val_precision: 0.7495 - 2s/epoch - 4ms/step\n",
            "Epoch 26/50\n",
            "568/568 - 2s - loss: 0.2441 - precision: 0.7512 - val_loss: 0.2293 - val_precision: 0.7513 - 2s/epoch - 4ms/step\n",
            "Epoch 27/50\n",
            "568/568 - 2s - loss: 0.2430 - precision: 0.7516 - val_loss: 0.2279 - val_precision: 0.7537 - 2s/epoch - 4ms/step\n",
            "Epoch 28/50\n",
            "568/568 - 2s - loss: 0.2399 - precision: 0.7555 - val_loss: 0.2267 - val_precision: 0.7502 - 2s/epoch - 4ms/step\n",
            "Epoch 29/50\n",
            "568/568 - 2s - loss: 0.2404 - precision: 0.7541 - val_loss: 0.2255 - val_precision: 0.7533 - 2s/epoch - 4ms/step\n",
            "Epoch 30/50\n",
            "568/568 - 2s - loss: 0.2396 - precision: 0.7540 - val_loss: 0.2267 - val_precision: 0.7529 - 2s/epoch - 4ms/step\n",
            "Epoch 31/50\n",
            "568/568 - 2s - loss: 0.2387 - precision: 0.7591 - val_loss: 0.2245 - val_precision: 0.7557 - 2s/epoch - 4ms/step\n",
            "Epoch 32/50\n",
            "568/568 - 2s - loss: 0.2384 - precision: 0.7566 - val_loss: 0.2230 - val_precision: 0.7613 - 2s/epoch - 4ms/step\n",
            "Epoch 33/50\n",
            "568/568 - 3s - loss: 0.2374 - precision: 0.7578 - val_loss: 0.2230 - val_precision: 0.7585 - 3s/epoch - 6ms/step\n",
            "Epoch 34/50\n",
            "568/568 - 2s - loss: 0.2364 - precision: 0.7604 - val_loss: 0.2230 - val_precision: 0.7595 - 2s/epoch - 4ms/step\n",
            "Epoch 35/50\n",
            "568/568 - 2s - loss: 0.2380 - precision: 0.7574 - val_loss: 0.2224 - val_precision: 0.7597 - 2s/epoch - 4ms/step\n",
            "Epoch 36/50\n",
            "568/568 - 2s - loss: 0.2353 - precision: 0.7627 - val_loss: 0.2212 - val_precision: 0.7615 - 2s/epoch - 4ms/step\n",
            "Epoch 37/50\n",
            "568/568 - 2s - loss: 0.2359 - precision: 0.7602 - val_loss: 0.2212 - val_precision: 0.7598 - 2s/epoch - 4ms/step\n",
            "Epoch 38/50\n",
            "568/568 - 2s - loss: 0.2357 - precision: 0.7606 - val_loss: 0.2201 - val_precision: 0.7629 - 2s/epoch - 4ms/step\n",
            "Epoch 39/50\n",
            "568/568 - 2s - loss: 0.2335 - precision: 0.7672 - val_loss: 0.2198 - val_precision: 0.7676 - 2s/epoch - 4ms/step\n",
            "Epoch 40/50\n",
            "568/568 - 2s - loss: 0.2344 - precision: 0.7615 - val_loss: 0.2196 - val_precision: 0.7598 - 2s/epoch - 4ms/step\n",
            "Epoch 41/50\n",
            "568/568 - 2s - loss: 0.2338 - precision: 0.7612 - val_loss: 0.2197 - val_precision: 0.7612 - 2s/epoch - 4ms/step\n",
            "Epoch 42/50\n",
            "568/568 - 2s - loss: 0.2341 - precision: 0.7626 - val_loss: 0.2198 - val_precision: 0.7658 - 2s/epoch - 4ms/step\n",
            "Epoch 43/50\n",
            "568/568 - 2s - loss: 0.2329 - precision: 0.7659 - val_loss: 0.2187 - val_precision: 0.7656 - 2s/epoch - 4ms/step\n",
            "Epoch 44/50\n",
            "568/568 - 2s - loss: 0.2317 - precision: 0.7674 - val_loss: 0.2175 - val_precision: 0.7682 - 2s/epoch - 4ms/step\n",
            "Epoch 45/50\n",
            "568/568 - 2s - loss: 0.2310 - precision: 0.7707 - val_loss: 0.2167 - val_precision: 0.7688 - 2s/epoch - 4ms/step\n",
            "Epoch 46/50\n",
            "568/568 - 2s - loss: 0.2302 - precision: 0.7691 - val_loss: 0.2163 - val_precision: 0.7723 - 2s/epoch - 4ms/step\n",
            "Epoch 47/50\n",
            "568/568 - 2s - loss: 0.2324 - precision: 0.7731 - val_loss: 0.2163 - val_precision: 0.7733 - 2s/epoch - 4ms/step\n",
            "Epoch 48/50\n",
            "568/568 - 2s - loss: 0.2305 - precision: 0.7722 - val_loss: 0.2160 - val_precision: 0.7706 - 2s/epoch - 4ms/step\n",
            "Epoch 49/50\n",
            "568/568 - 2s - loss: 0.2312 - precision: 0.7682 - val_loss: 0.2152 - val_precision: 0.7703 - 2s/epoch - 4ms/step\n",
            "Epoch 50/50\n",
            "568/568 - 2s - loss: 0.2301 - precision: 0.7722 - val_loss: 0.2155 - val_precision: 0.7688 - 2s/epoch - 4ms/step\n"
          ]
        },
        {
          "output_type": "execute_result",
          "data": {
            "text/plain": [
              "<keras.callbacks.History at 0x7f3b10bd70d0>"
            ]
          },
          "metadata": {},
          "execution_count": 22
        }
      ]
    },
    {
      "cell_type": "code",
      "source": [
        "accuracy=model.evaluate(X_test,Y_test)\n",
        "print(accuracy)\n",
        "y_pred = model.predict(X_test)\n",
        "y_pred = np.asarray(y_pred).astype(np.float32)\n",
        "y_pred=np.round(y_pred)\n",
        "print(y_pred[0:15,])\n",
        "print(Y_test[0:15,])\n",
        "y_test = []\n",
        "Y_pred = []\n",
        "for x in Y_test:\n",
        "  if(x[0]==1 and x[1]==0 and x[2]==0 and x[3]==0 and x[4]==0):\n",
        "    y_test.append('pm25')\n",
        "  if(x[0]==0 and x[1]==1 and x[2]==0 and x[3]==0 and x[4]==0):\n",
        "    y_test.append('no2')\n",
        "  if(x[0]==0 and x[1]==0 and x[2]==1 and x[3]==0 and x[4]==0):\n",
        "    y_test.append('pm10')\n",
        "  if(x[0]==0 and x[1]==0 and x[2]==0 and x[3]==1 and x[4]==0):\n",
        "    y_test.append('co')\n",
        "  if(x[0]==0 and x[1]==0 and x[2]==0 and x[3]==0 and x[4]==1):\n",
        "    y_test.append('so2')\n",
        "for x in y_pred:\n",
        "  if(x[0]==1 and x[1]==0 and x[2]==0 and x[3]==0 and x[4]==0):\n",
        "    Y_pred.append('pm25')\n",
        "  if(x[0]==0 and x[1]==1 and x[2]==0 and x[3]==0 and x[4]==0):\n",
        "    Y_pred.append('no2')\n",
        "  if(x[0]==0 and x[1]==0 and x[2]==1 and x[3]==0 and x[4]==0):\n",
        "    Y_pred.append('pm10')\n",
        "  if(x[0]==0 and x[1]==0 and x[2]==0 and x[3]==1 and x[4]==0):\n",
        "    Y_pred.append('co')\n",
        "  if(x[0]==0 and x[1]==0 and x[2]==0 and x[3]==0 and x[4]==1):\n",
        "    Y_pred.append('so2')\n",
        "print(Y_pred[0:15])\n",
        "print(y_test[0:15])"
      ],
      "metadata": {
        "colab": {
          "base_uri": "https://localhost:8080/"
        },
        "id": "eAIMC6sV3iYr",
        "outputId": "b9703a22-3c02-484c-98b8-63fb5ba9088a"
      },
      "execution_count": null,
      "outputs": [
        {
          "output_type": "stream",
          "name": "stdout",
          "text": [
            "89/89 [==============================] - 1s 3ms/step - loss: 0.2155 - precision: 0.7688\n",
            "[0.21546529233455658, 0.7687655687332153]\n",
            "[[0. 0. 1. 0. 0.]\n",
            " [1. 0. 0. 0. 0.]\n",
            " [0. 0. 0. 0. 1.]\n",
            " [1. 0. 0. 0. 0.]\n",
            " [1. 0. 0. 0. 0.]\n",
            " [0. 0. 0. 1. 0.]\n",
            " [0. 0. 0. 0. 1.]\n",
            " [0. 0. 0. 0. 1.]\n",
            " [0. 0. 0. 1. 1.]\n",
            " [0. 0. 0. 0. 1.]\n",
            " [0. 0. 0. 1. 0.]\n",
            " [0. 0. 0. 0. 1.]\n",
            " [0. 0. 0. 0. 0.]\n",
            " [1. 0. 0. 0. 0.]\n",
            " [0. 0. 0. 0. 1.]]\n",
            "[[0. 0. 0. 1. 0.]\n",
            " [1. 0. 0. 0. 0.]\n",
            " [0. 0. 0. 0. 1.]\n",
            " [1. 0. 0. 0. 0.]\n",
            " [1. 0. 0. 0. 0.]\n",
            " [0. 0. 0. 1. 0.]\n",
            " [0. 0. 0. 0. 1.]\n",
            " [0. 0. 0. 1. 0.]\n",
            " [0. 0. 0. 0. 1.]\n",
            " [0. 0. 0. 1. 0.]\n",
            " [0. 0. 0. 1. 0.]\n",
            " [0. 0. 0. 0. 1.]\n",
            " [0. 0. 0. 1. 0.]\n",
            " [1. 0. 0. 0. 0.]\n",
            " [0. 0. 0. 0. 1.]]\n",
            "['pm10', 'pm25', 'so2', 'pm25', 'pm25', 'co', 'so2', 'so2', 'so2', 'co', 'so2', 'pm25', 'so2', 'pm25', 'so2']\n",
            "['co', 'pm25', 'so2', 'pm25', 'pm25', 'co', 'so2', 'co', 'so2', 'co', 'co', 'so2', 'co', 'pm25', 'so2']\n"
          ]
        }
      ]
    },
    {
      "cell_type": "code",
      "source": [
        "import seaborn as sn\n",
        "import matplotlib.pyplot as plt\n",
        "from sklearn.metrics import confusion_matrix\n",
        "import pandas as pd\n",
        "# create a confusion matrix to visually represent incorrectly classified images\n",
        "def plot_confusion_matrix(y_true, y_pred, classes, out_path=\"\"):\n",
        "    cm = confusion_matrix(y_true, y_pred,normalize=\"true\")\n",
        "    df_cm = pd.DataFrame(cm, index=[i for i in classes], columns=[i for i in classes])\n",
        "    plt.figure(figsize=(6, 6))\n",
        "    ax = sn.heatmap(df_cm, annot=True, square=True, linewidths=.2,cmap=\"YlGnBu\" ,cbar_kws={\"shrink\": 0.8})\n",
        "    return ax"
      ],
      "metadata": {
        "id": "zYLW8ZQo4xjU"
      },
      "execution_count": null,
      "outputs": []
    },
    {
      "cell_type": "code",
      "source": [
        "y_pred=model.predict(X_test)\n",
        "labels=['pm25','no2','pm10','co','so2']\n",
        "plot_confusion_matrix(Y_test.argmax(axis=1),y_pred.argmax(axis=1),labels)"
      ],
      "metadata": {
        "colab": {
          "base_uri": "https://localhost:8080/",
          "height": 333
        },
        "id": "OLKXjLLw41n6",
        "outputId": "20dd6931-cd1f-4350-86be-cc91b38f24d3"
      },
      "execution_count": null,
      "outputs": [
        {
          "output_type": "execute_result",
          "data": {
            "text/plain": [
              "<matplotlib.axes._subplots.AxesSubplot at 0x7f3b0e5bf2d0>"
            ]
          },
          "metadata": {},
          "execution_count": 25
        },
        {
          "output_type": "display_data",
          "data": {
            "text/plain": [
              "<Figure size 432x432 with 2 Axes>"
            ],
            "image/png": "[encoded data removed]"
          },
          "metadata": {
            "needs_background": "light"
          }
        }
      ]
    }
  ]
}